{
 "cells": [
  {
   "cell_type": "markdown",
   "id": "democratic-nebraska",
   "metadata": {},
   "source": [
    "<h3> Running the \"keras_qlayer\" jupyter notebook to obtain the Keras quantum layer </h3>"
   ]
  },
  {
   "cell_type": "code",
   "execution_count": 1,
   "id": "brief-cocktail",
   "metadata": {},
   "outputs": [
    {
     "name": "stdout",
     "output_type": "stream",
     "text": [
      "0: ──RX(0.00)─╭●──RY(0.25)─────────────────────┤  <Z>\n",
      "1: ──RX(0.10)─╰X─╭●─────────RY(0.33)───────────┤  <Z>\n",
      "2: ──RX(1.50)────╰X────────╭●─────────RY(0.75)─┤  <Z>\n",
      "3: ──RX(0.33)──────────────╰X─────────RY(0.67)─┤  <Z>\n",
      "tf.Tensor([0.964 0.948 0.058 0.052], shape=(4,), dtype=float64)\n"
     ]
    }
   ],
   "source": [
    "%run keras_qlayer.ipynb"
   ]
  },
  {
   "cell_type": "markdown",
   "id": "cardiac-drain",
   "metadata": {},
   "source": [
    "<h3> Importing necessary libraries </h3>"
   ]
  },
  {
   "cell_type": "code",
   "execution_count": 2,
   "id": "institutional-affairs",
   "metadata": {},
   "outputs": [],
   "source": [
    "import tensorflow as tf\n",
    "import numpy as np\n",
    "import matplotlib.pyplot as plt\n",
    "from sklearn.datasets import make_moons"
   ]
  },
  {
   "cell_type": "markdown",
   "id": "minute-botswana",
   "metadata": {},
   "source": [
    "<h3> Instantiating and visualizing the Moons dataset from Scikit-Learn </h3>"
   ]
  },
  {
   "cell_type": "code",
   "execution_count": 3,
   "id": "interracial-print",
   "metadata": {},
   "outputs": [
    {
     "data": {
      "image/png": "[encoded data removed]",
      "text/plain": [
       "<Figure size 432x288 with 1 Axes>"
      ]
     },
     "metadata": {
      "needs_background": "light"
     },
     "output_type": "display_data"
    }
   ],
   "source": [
    "# Set random seeds\n",
    "np.random.seed(42)\n",
    "tf.random.set_seed(42)\n",
    "\n",
    "X, y = make_moons(n_samples=200, noise=0.1)\n",
    "y_hot = tf.keras.utils.to_categorical(y, num_classes=2)  # one-hot encoded labels\n",
    "\n",
    "c = [\"#1f77b4\" if y_ == 0 else \"#ff7f0e\" for y_ in y]  # colours for each class\n",
    "plt.axis(\"off\")\n",
    "plt.scatter(X[:, 0], X[:, 1], c=c)\n",
    "plt.show()"
   ]
  },
  {
   "cell_type": "markdown",
   "id": "conditional-federation",
   "metadata": {},
   "source": [
    "<h3> Creating model with classical and quantum layers </h3> "
   ]
  },
  {
   "cell_type": "code",
   "execution_count": 6,
   "id": "fewer-gilbert",
   "metadata": {},
   "outputs": [],
   "source": [
    "tf.keras.backend.set_floatx('float64')\n",
    "\n",
    "clayer_1 = tf.keras.layers.Dense(2)\n",
    "clayer_2 = tf.keras.layers.Dense(2, activation=\"softmax\")\n",
    "model = tf.keras.models.Sequential([clayer_1, qlayer, clayer_2])"
   ]
  },
  {
   "cell_type": "code",
   "execution_count": 7,
   "id": "optimum-merchandise",
   "metadata": {},
   "outputs": [
    {
     "data": {
      "text/plain": [
       "{'name': 'sequential',\n",
       " 'layers': [{'class_name': 'Dense',\n",
       "   'config': {'name': 'dense_4',\n",
       "    'trainable': True,\n",
       "    'dtype': 'float64',\n",
       "    'units': 2,\n",
       "    'activation': 'linear',\n",
       "    'use_bias': True,\n",
       "    'kernel_initializer': {'class_name': 'GlorotUniform',\n",
       "     'config': {'seed': None}},\n",
       "    'bias_initializer': {'class_name': 'Zeros', 'config': {}},\n",
       "    'kernel_regularizer': None,\n",
       "    'bias_regularizer': None,\n",
       "    'activity_regularizer': None,\n",
       "    'kernel_constraint': None,\n",
       "    'bias_constraint': None}},\n",
       "  {'class_name': 'KerasLayer',\n",
       "   'config': {'name': 'keras_layer',\n",
       "    'trainable': True,\n",
       "    'dtype': 'float64',\n",
       "    'dynamic': True,\n",
       "    'output_dim': 4,\n",
       "    'weight_specs': {},\n",
       "    'weight_shapes': {'weights': (4,)},\n",
       "    'argnum': None}},\n",
       "  {'class_name': 'Dense',\n",
       "   'config': {'name': 'dense_5',\n",
       "    'trainable': True,\n",
       "    'dtype': 'float64',\n",
       "    'units': 2,\n",
       "    'activation': 'softmax',\n",
       "    'use_bias': True,\n",
       "    'kernel_initializer': {'class_name': 'GlorotUniform',\n",
       "     'config': {'seed': None}},\n",
       "    'bias_initializer': {'class_name': 'Zeros', 'config': {}},\n",
       "    'kernel_regularizer': None,\n",
       "    'bias_regularizer': None,\n",
       "    'activity_regularizer': None,\n",
       "    'kernel_constraint': None,\n",
       "    'bias_constraint': None}}]}"
      ]
     },
     "execution_count": 7,
     "metadata": {},
     "output_type": "execute_result"
    }
   ],
   "source": [
    "model.get_config()"
   ]
  },
  {
   "cell_type": "markdown",
   "id": "saved-cylinder",
   "metadata": {},
   "source": [
    "<h3> 1st model </h3>"
   ]
  },
  {
   "cell_type": "code",
   "execution_count": 53,
   "id": "supposed-electronics",
   "metadata": {},
   "outputs": [],
   "source": [
    "opt = tf.keras.optimizers.SGD(learning_rate=0.2)\n",
    "model.compile(opt, loss=\"mae\", metrics=[\"accuracy\"])"
   ]
  },
  {
   "cell_type": "code",
   "execution_count": 54,
   "id": "japanese-jersey",
   "metadata": {},
   "outputs": [],
   "source": [
    "# qlayer.get_weights()"
   ]
  },
  {
   "cell_type": "code",
   "execution_count": 55,
   "id": "administrative-camping",
   "metadata": {},
   "outputs": [
    {
     "name": "stdout",
     "output_type": "stream",
     "text": [
      "Epoch 1/5\n",
      "30/30 [==============================] - 5s 176ms/step - loss: 0.4814 - accuracy: 0.5933 - val_loss: 0.3921 - val_accuracy: 0.7000\n",
      "Epoch 2/5\n",
      "30/30 [==============================] - 5s 171ms/step - loss: 0.3980 - accuracy: 0.6600 - val_loss: 0.3118 - val_accuracy: 0.7400\n",
      "Epoch 3/5\n",
      "30/30 [==============================] - 5s 171ms/step - loss: 0.3241 - accuracy: 0.6933 - val_loss: 0.2624 - val_accuracy: 0.7800\n",
      "Epoch 4/5\n",
      "30/30 [==============================] - 5s 171ms/step - loss: 0.2614 - accuracy: 0.7733 - val_loss: 0.2292 - val_accuracy: 0.7600\n",
      "Epoch 5/5\n",
      "30/30 [==============================] - 5s 171ms/step - loss: 0.2199 - accuracy: 0.8000 - val_loss: 0.1908 - val_accuracy: 0.8400\n"
     ]
    }
   ],
   "source": [
    "model1_history = model.fit(X, y_hot, epochs=5, batch_size=5, validation_split=0.25, verbose=1)"
   ]
  },
  {
   "cell_type": "code",
   "execution_count": 57,
   "id": "flush-loading",
   "metadata": {},
   "outputs": [],
   "source": [
    "# Verification that the weights of the qlayer update after training\n",
    "# qlayer.get_weights()"
   ]
  },
  {
   "cell_type": "markdown",
   "id": "purple-commercial",
   "metadata": {},
   "source": [
    "<h3> 2nd model for potentially better performance </h3>"
   ]
  },
  {
   "cell_type": "code",
   "execution_count": 58,
   "id": "changing-washer",
   "metadata": {},
   "outputs": [],
   "source": [
    "# re-define the layers\n",
    "clayer_1 = tf.keras.layers.Dense(4)\n",
    "qlayer_1 = qml.qnn.KerasLayer(qnode, weight_shapes, output_dim=num_of_qubits)\n",
    "qlayer_2 = qml.qnn.KerasLayer(qnode, weight_shapes, output_dim=num_of_qubits)\n",
    "clayer_2 = tf.keras.layers.Dense(2, activation=\"softmax\")\n",
    "\n",
    "# construct the model\n",
    "inputs = tf.keras.Input(shape=(2,))\n",
    "x = clayer_1(inputs)\n",
    "x_1, x_2 = tf.split(x, 2, axis=1)\n",
    "x_1 = qlayer_1(x_1)\n",
    "x_2 = qlayer_2(x_2)\n",
    "x = tf.concat([x_1, x_2], axis=1)\n",
    "outputs = clayer_2(x)\n",
    "\n",
    "model = tf.keras.Model(inputs=inputs, outputs=outputs)"
   ]
  },
  {
   "cell_type": "code",
   "execution_count": 59,
   "id": "dangerous-combining",
   "metadata": {},
   "outputs": [],
   "source": [
    "#print(qlayer_1.get_weights())\n",
    "#print(qlayer_2.get_weights())"
   ]
  },
  {
   "cell_type": "code",
   "execution_count": 64,
   "id": "third-community",
   "metadata": {},
   "outputs": [
    {
     "name": "stdout",
     "output_type": "stream",
     "text": [
      "Epoch 1/6\n",
      "30/30 [==============================] - 10s 343ms/step - loss: 0.3284 - accuracy: 0.7200 - val_loss: 0.2639 - val_accuracy: 0.8000\n",
      "Epoch 2/6\n",
      "30/30 [==============================] - 10s 341ms/step - loss: 0.2690 - accuracy: 0.7533 - val_loss: 0.2311 - val_accuracy: 0.7600\n",
      "Epoch 3/6\n",
      "30/30 [==============================] - 10s 334ms/step - loss: 0.2291 - accuracy: 0.7867 - val_loss: 0.2093 - val_accuracy: 0.7800\n",
      "Epoch 4/6\n",
      "30/30 [==============================] - 10s 339ms/step - loss: 0.2084 - accuracy: 0.8000 - val_loss: 0.1922 - val_accuracy: 0.8000\n",
      "Epoch 5/6\n",
      "30/30 [==============================] - 10s 335ms/step - loss: 0.1926 - accuracy: 0.8200 - val_loss: 0.1739 - val_accuracy: 0.8400\n",
      "Epoch 6/6\n",
      "30/30 [==============================] - 10s 338ms/step - loss: 0.1850 - accuracy: 0.8200 - val_loss: 0.1653 - val_accuracy: 0.8400\n"
     ]
    }
   ],
   "source": [
    "opt = tf.keras.optimizers.SGD(learning_rate=0.2)\n",
    "model.compile(opt, loss=\"mae\", metrics=[\"accuracy\"])\n",
    "\n",
    "model2_history = model.fit(X, y_hot, epochs=6, batch_size=5, validation_split=0.25, verbose=1)"
   ]
  },
  {
   "cell_type": "code",
   "execution_count": 65,
   "id": "determined-class",
   "metadata": {},
   "outputs": [],
   "source": [
    "#print(qlayer_1.get_weights())\n",
    "#print(qlayer_2.get_weights())"
   ]
  },
  {
   "cell_type": "markdown",
   "id": "catholic-pastor",
   "metadata": {},
   "source": [
    "<h3> 3rd model for potentially better performance </h3>"
   ]
  },
  {
   "cell_type": "code",
   "execution_count": 8,
   "id": "threaded-authentication",
   "metadata": {},
   "outputs": [],
   "source": [
    "# re-define the layers\n",
    "clayer_1 = tf.keras.layers.Dense(4)\n",
    "clayer_2 = tf.keras.layers.Dense(8)\n",
    "clayer_3 = tf.keras.layers.Dense(4)\n",
    "qlayer_1 = qml.qnn.KerasLayer(qnode, weight_shapes, output_dim=num_of_qubits)\n",
    "qlayer_2 = qml.qnn.KerasLayer(qnode, weight_shapes, output_dim=num_of_qubits)\n",
    "clayer_4 = tf.keras.layers.Dense(2, activation=\"softmax\")\n",
    "\n",
    "# construct the model\n",
    "inputs = tf.keras.Input(shape=(2,))\n",
    "x = clayer_3(clayer_2(clayer_1(inputs)))\n",
    "q_1, q_2 = tf.split(x, 2, axis=1)\n",
    "q_1 = qlayer_1(q_1)\n",
    "q_2 = qlayer_2(q_2)\n",
    "x = tf.concat([q_1, q_2], axis=1)\n",
    "outputs = clayer_4(x)\n",
    "\n",
    "model3 = tf.keras.Model(inputs=inputs, outputs=outputs)"
   ]
  },
  {
   "cell_type": "code",
   "execution_count": 9,
   "id": "combined-humor",
   "metadata": {},
   "outputs": [
    {
     "name": "stdout",
     "output_type": "stream",
     "text": [
      "Epoch 1/10\n",
      "30/30 [==============================] - 10s 336ms/step - loss: 0.4734 - accuracy: 0.6400 - val_loss: 0.4069 - val_accuracy: 0.7400\n",
      "Epoch 2/10\n",
      "30/30 [==============================] - 10s 338ms/step - loss: 0.3403 - accuracy: 0.7467 - val_loss: 0.2422 - val_accuracy: 0.8200\n",
      "Epoch 3/10\n",
      "30/30 [==============================] - 10s 336ms/step - loss: 0.1966 - accuracy: 0.8600 - val_loss: 0.1891 - val_accuracy: 0.8200\n",
      "Epoch 4/10\n",
      "30/30 [==============================] - 10s 332ms/step - loss: 0.1580 - accuracy: 0.9000 - val_loss: 0.1764 - val_accuracy: 0.8400\n",
      "Epoch 5/10\n",
      "30/30 [==============================] - 10s 337ms/step - loss: 0.1545 - accuracy: 0.8800 - val_loss: 0.1760 - val_accuracy: 0.8200\n",
      "Epoch 6/10\n",
      "30/30 [==============================] - 10s 332ms/step - loss: 0.1430 - accuracy: 0.8733 - val_loss: 0.1878 - val_accuracy: 0.8400\n",
      "Epoch 7/10\n",
      "30/30 [==============================] - 10s 332ms/step - loss: 0.1635 - accuracy: 0.8333 - val_loss: 0.1718 - val_accuracy: 0.8400\n",
      "Epoch 8/10\n",
      "30/30 [==============================] - 10s 334ms/step - loss: 0.1571 - accuracy: 0.8467 - val_loss: 0.1755 - val_accuracy: 0.8600\n",
      "Epoch 9/10\n",
      "30/30 [==============================] - 10s 335ms/step - loss: 0.1506 - accuracy: 0.8533 - val_loss: 0.1696 - val_accuracy: 0.8400\n",
      "Epoch 10/10\n",
      "30/30 [==============================] - 10s 336ms/step - loss: 0.1457 - accuracy: 0.8600 - val_loss: 0.1666 - val_accuracy: 0.8400\n"
     ]
    }
   ],
   "source": [
    "opt = tf.keras.optimizers.SGD(learning_rate=0.1)\n",
    "model3.compile(opt, loss=\"mae\", metrics=[\"accuracy\"])\n",
    "\n",
    "model3_history = model3.fit(X, y_hot, epochs=10, batch_size=5, validation_split=0.25, verbose=1)"
   ]
  },
  {
   "cell_type": "markdown",
   "id": "editorial-asthma",
   "metadata": {},
   "source": [
    "<h3> Result Plots </h3>"
   ]
  },
  {
   "cell_type": "code",
   "execution_count": 10,
   "id": "double-religious",
   "metadata": {},
   "outputs": [],
   "source": [
    "# summarize history for accuracy\n",
    "def plot_history(history, mode, model_number):\n",
    "    if mode == \"ACC\":\n",
    "        mode = 'accuracy'\n",
    "    elif mode == \"LOSS\":\n",
    "        mode = 'loss'\n",
    "    else:\n",
    "        print(\"ERROR\")\n",
    "        \n",
    "    plt.plot(history.history[f\"{mode}\"])\n",
    "    plt.plot(history.history[f\"val_{mode}\"])\n",
    "    plt.title(f\"model{model_number} {mode}\")\n",
    "    plt.ylabel(f'{mode}')\n",
    "    plt.xlabel('epoch')\n",
    "    plt.legend(['train', 'test'], loc='upper left')\n",
    "    plt.show()"
   ]
  },
  {
   "cell_type": "code",
   "execution_count": 12,
   "id": "substantial-brick",
   "metadata": {},
   "outputs": [],
   "source": [
    "plot_history(model1_history, \"ACC\", 1)\n",
    "plot_history(model1_history, \"LOSS\", 1)"
   ]
  },
  {
   "cell_type": "code",
   "execution_count": null,
   "id": "structural-trunk",
   "metadata": {},
   "outputs": [],
   "source": [
    "plot_history(model2_history, \"ACC\", 2)\n",
    "plot_history(model2_history, \"LOSS\", 2)"
   ]
  },
  {
   "cell_type": "code",
   "execution_count": 13,
   "id": "atomic-aspect",
   "metadata": {},
   "outputs": [
    {
     "data": {
      "image/png": "[encoded data removed]",
      "text/plain": [
       "<Figure size 432x288 with 1 Axes>"
      ]
     },
     "metadata": {
      "needs_background": "light"
     },
     "output_type": "display_data"
    },
    {
     "data": {
      "image/png": "[encoded data removed]",
      "text/plain": [
       "<Figure size 432x288 with 1 Axes>"
      ]
     },
     "metadata": {
      "needs_background": "light"
     },
     "output_type": "display_data"
    }
   ],
   "source": [
    "plot_history(model3_history, \"ACC\", 3)\n",
    "plot_history(model3_history, \"LOSS\", 3)"
   ]
  },
  {
   "cell_type": "code",
   "execution_count": null,
   "id": "organized-trainer",
   "metadata": {},
   "outputs": [],
   "source": []
  }
 ],
 "metadata": {
  "kernelspec": {
   "display_name": "Python 3",
   "language": "python",
   "name": "python3"
  },
  "language_info": {
   "codemirror_mode": {
    "name": "ipython",
    "version": 3
   },
   "file_extension": ".py",
   "mimetype": "text/x-python",
   "name": "python",
   "nbconvert_exporter": "python",
   "pygments_lexer": "ipython3",
   "version": "3.8.5"
  }
 },
 "nbformat": 4,
 "nbformat_minor": 5
}
