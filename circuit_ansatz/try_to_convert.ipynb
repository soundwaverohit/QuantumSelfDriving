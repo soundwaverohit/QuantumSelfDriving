{
 "cells": [
  {
   "cell_type": "code",
   "execution_count": 1,
   "id": "5f1f658f",
   "metadata": {},
   "outputs": [
    {
     "name": "stdout",
     "output_type": "stream",
     "text": [
      "Requirement already satisfied: pennylane_qiskit in /Users/dsikdar/opt/anaconda3/envs/py39/lib/python3.9/site-packages (0.29.0)\n",
      "Requirement already satisfied: numpy in /Users/dsikdar/opt/anaconda3/envs/py39/lib/python3.9/site-packages (from pennylane_qiskit) (1.21.5)\n",
      "Requirement already satisfied: pennylane>=0.28 in /Users/dsikdar/opt/anaconda3/envs/py39/lib/python3.9/site-packages (from pennylane_qiskit) (0.29.1)\n",
      "Requirement already satisfied: mthree>=0.17 in /Users/dsikdar/opt/anaconda3/envs/py39/lib/python3.9/site-packages (from pennylane_qiskit) (2.2.0)\n",
      "Requirement already satisfied: qiskit>=0.32 in /Users/dsikdar/opt/anaconda3/envs/py39/lib/python3.9/site-packages (from pennylane_qiskit) (0.42.1)\n",
      "Requirement already satisfied: networkx>=2.2 in /Users/dsikdar/opt/anaconda3/envs/py39/lib/python3.9/site-packages (from pennylane_qiskit) (3.0)\n",
      "Requirement already satisfied: orjson>=3.0.0 in /Users/dsikdar/opt/anaconda3/envs/py39/lib/python3.9/site-packages (from mthree>=0.17->pennylane_qiskit) (3.8.8)\n",
      "Requirement already satisfied: scipy>=1.3 in /Users/dsikdar/opt/anaconda3/envs/py39/lib/python3.9/site-packages (from mthree>=0.17->pennylane_qiskit) (1.7.3)\n",
      "Requirement already satisfied: cython>=0.29 in /Users/dsikdar/opt/anaconda3/envs/py39/lib/python3.9/site-packages (from mthree>=0.17->pennylane_qiskit) (0.29.33)\n",
      "Requirement already satisfied: qiskit-terra>=0.21 in /Users/dsikdar/opt/anaconda3/envs/py39/lib/python3.9/site-packages (from mthree>=0.17->pennylane_qiskit) (0.23.3)\n",
      "Requirement already satisfied: qiskit-ibmq-provider>=0.19.2 in /Users/dsikdar/opt/anaconda3/envs/py39/lib/python3.9/site-packages (from mthree>=0.17->pennylane_qiskit) (0.20.2)\n",
      "Requirement already satisfied: psutil in /Users/dsikdar/opt/anaconda3/envs/py39/lib/python3.9/site-packages (from mthree>=0.17->pennylane_qiskit) (5.9.0)\n",
      "Requirement already satisfied: requests in /Users/dsikdar/opt/anaconda3/envs/py39/lib/python3.9/site-packages (from pennylane>=0.28->pennylane_qiskit) (2.28.1)\n",
      "Requirement already satisfied: cachetools in /Users/dsikdar/opt/anaconda3/envs/py39/lib/python3.9/site-packages (from pennylane>=0.28->pennylane_qiskit) (5.3.0)\n",
      "Requirement already satisfied: appdirs in /Users/dsikdar/opt/anaconda3/envs/py39/lib/python3.9/site-packages (from pennylane>=0.28->pennylane_qiskit) (1.4.4)\n",
      "Requirement already satisfied: semantic-version>=2.7 in /Users/dsikdar/opt/anaconda3/envs/py39/lib/python3.9/site-packages (from pennylane>=0.28->pennylane_qiskit) (2.10.0)\n",
      "Requirement already satisfied: autoray>=0.3.1 in /Users/dsikdar/opt/anaconda3/envs/py39/lib/python3.9/site-packages (from pennylane>=0.28->pennylane_qiskit) (0.6.3)\n",
      "Requirement already satisfied: autograd in /Users/dsikdar/opt/anaconda3/envs/py39/lib/python3.9/site-packages (from pennylane>=0.28->pennylane_qiskit) (1.5)\n",
      "Requirement already satisfied: pennylane-lightning>=0.28 in /Users/dsikdar/opt/anaconda3/envs/py39/lib/python3.9/site-packages (from pennylane>=0.28->pennylane_qiskit) (0.29.0)\n",
      "Requirement already satisfied: toml in /Users/dsikdar/opt/anaconda3/envs/py39/lib/python3.9/site-packages (from pennylane>=0.28->pennylane_qiskit) (0.10.2)\n",
      "Requirement already satisfied: retworkx in /Users/dsikdar/opt/anaconda3/envs/py39/lib/python3.9/site-packages (from pennylane>=0.28->pennylane_qiskit) (0.12.1)\n",
      "Requirement already satisfied: qiskit-aer==0.12.0 in /Users/dsikdar/opt/anaconda3/envs/py39/lib/python3.9/site-packages (from qiskit>=0.32->pennylane_qiskit) (0.12.0)\n",
      "Requirement already satisfied: urllib3>=1.21.1 in /Users/dsikdar/opt/anaconda3/envs/py39/lib/python3.9/site-packages (from qiskit-ibmq-provider>=0.19.2->mthree>=0.17->pennylane_qiskit) (1.26.11)\n",
      "Requirement already satisfied: requests-ntlm<=1.1.0 in /Users/dsikdar/opt/anaconda3/envs/py39/lib/python3.9/site-packages (from qiskit-ibmq-provider>=0.19.2->mthree>=0.17->pennylane_qiskit) (1.1.0)\n",
      "Requirement already satisfied: websocket-client>=1.5.1 in /Users/dsikdar/opt/anaconda3/envs/py39/lib/python3.9/site-packages (from qiskit-ibmq-provider>=0.19.2->mthree>=0.17->pennylane_qiskit) (1.5.1)\n",
      "Requirement already satisfied: websockets>=10.0 in /Users/dsikdar/opt/anaconda3/envs/py39/lib/python3.9/site-packages (from qiskit-ibmq-provider>=0.19.2->mthree>=0.17->pennylane_qiskit) (10.4)\n",
      "Requirement already satisfied: python-dateutil>=2.8.0 in /Users/dsikdar/opt/anaconda3/envs/py39/lib/python3.9/site-packages (from qiskit-ibmq-provider>=0.19.2->mthree>=0.17->pennylane_qiskit) (2.8.2)\n",
      "Requirement already satisfied: symengine>=0.9 in /Users/dsikdar/opt/anaconda3/envs/py39/lib/python3.9/site-packages (from qiskit-terra>=0.21->mthree>=0.17->pennylane_qiskit) (0.9.2)\n",
      "Requirement already satisfied: rustworkx>=0.12.0 in /Users/dsikdar/opt/anaconda3/envs/py39/lib/python3.9/site-packages (from qiskit-terra>=0.21->mthree>=0.17->pennylane_qiskit) (0.12.1)\n",
      "Requirement already satisfied: ply>=3.10 in /Users/dsikdar/opt/anaconda3/envs/py39/lib/python3.9/site-packages (from qiskit-terra>=0.21->mthree>=0.17->pennylane_qiskit) (3.11)\n",
      "Requirement already satisfied: sympy>=1.3 in /Users/dsikdar/opt/anaconda3/envs/py39/lib/python3.9/site-packages (from qiskit-terra>=0.21->mthree>=0.17->pennylane_qiskit) (1.10.1)\n",
      "Requirement already satisfied: stevedore>=3.0.0 in /Users/dsikdar/opt/anaconda3/envs/py39/lib/python3.9/site-packages (from qiskit-terra>=0.21->mthree>=0.17->pennylane_qiskit) (5.0.0)\n",
      "Requirement already satisfied: dill>=0.3 in /Users/dsikdar/opt/anaconda3/envs/py39/lib/python3.9/site-packages (from qiskit-terra>=0.21->mthree>=0.17->pennylane_qiskit) (0.3.4)\n",
      "Requirement already satisfied: certifi>=2017.4.17 in /Users/dsikdar/opt/anaconda3/envs/py39/lib/python3.9/site-packages (from requests->pennylane>=0.28->pennylane_qiskit) (2022.12.7)\n",
      "Requirement already satisfied: idna<4,>=2.5 in /Users/dsikdar/opt/anaconda3/envs/py39/lib/python3.9/site-packages (from requests->pennylane>=0.28->pennylane_qiskit) (3.3)\n",
      "Requirement already satisfied: charset-normalizer<3,>=2 in /Users/dsikdar/opt/anaconda3/envs/py39/lib/python3.9/site-packages (from requests->pennylane>=0.28->pennylane_qiskit) (2.0.4)\n",
      "Requirement already satisfied: future>=0.15.2 in /Users/dsikdar/opt/anaconda3/envs/py39/lib/python3.9/site-packages (from autograd->pennylane>=0.28->pennylane_qiskit) (0.18.3)\n",
      "Requirement already satisfied: six>=1.5 in /Users/dsikdar/opt/anaconda3/envs/py39/lib/python3.9/site-packages (from python-dateutil>=2.8.0->qiskit-ibmq-provider>=0.19.2->mthree>=0.17->pennylane_qiskit) (1.16.0)\n",
      "Requirement already satisfied: cryptography>=1.3 in /Users/dsikdar/opt/anaconda3/envs/py39/lib/python3.9/site-packages (from requests-ntlm<=1.1.0->qiskit-ibmq-provider>=0.19.2->mthree>=0.17->pennylane_qiskit) (37.0.1)\n",
      "Requirement already satisfied: ntlm-auth>=1.0.2 in /Users/dsikdar/opt/anaconda3/envs/py39/lib/python3.9/site-packages (from requests-ntlm<=1.1.0->qiskit-ibmq-provider>=0.19.2->mthree>=0.17->pennylane_qiskit) (1.5.0)\n",
      "Requirement already satisfied: pbr!=2.1.0,>=2.0.0 in /Users/dsikdar/opt/anaconda3/envs/py39/lib/python3.9/site-packages (from stevedore>=3.0.0->qiskit-terra>=0.21->mthree>=0.17->pennylane_qiskit) (5.11.1)\n",
      "Requirement already satisfied: mpmath>=0.19 in /Users/dsikdar/opt/anaconda3/envs/py39/lib/python3.9/site-packages (from sympy>=1.3->qiskit-terra>=0.21->mthree>=0.17->pennylane_qiskit) (1.2.1)\n",
      "Requirement already satisfied: cffi>=1.12 in /Users/dsikdar/opt/anaconda3/envs/py39/lib/python3.9/site-packages (from cryptography>=1.3->requests-ntlm<=1.1.0->qiskit-ibmq-provider>=0.19.2->mthree>=0.17->pennylane_qiskit) (1.15.1)\n",
      "Requirement already satisfied: pycparser in /Users/dsikdar/opt/anaconda3/envs/py39/lib/python3.9/site-packages (from cffi>=1.12->cryptography>=1.3->requests-ntlm<=1.1.0->qiskit-ibmq-provider>=0.19.2->mthree>=0.17->pennylane_qiskit) (2.21)\n",
      "Note: you may need to restart the kernel to use updated packages.\n"
     ]
    }
   ],
   "source": [
    "pip install pennylane_qiskit"
   ]
  },
  {
   "cell_type": "code",
   "execution_count": 2,
   "id": "31569981",
   "metadata": {},
   "outputs": [
    {
     "ename": "ModuleNotFoundError",
     "evalue": "No module named 'ipywidgets'",
     "output_type": "error",
     "traceback": [
      "\u001b[0;31m---------------------------------------------------------------------------\u001b[0m",
      "\u001b[0;31mModuleNotFoundError\u001b[0m                       Traceback (most recent call last)",
      "\u001b[0;32m/var/folders/2m/s7w65md916z86lmhkb7lxv_00000gn/T/ipykernel_14361/1193653432.py\u001b[0m in \u001b[0;36m<module>\u001b[0;34m\u001b[0m\n\u001b[0;32m----> 1\u001b[0;31m \u001b[0;32mfrom\u001b[0m \u001b[0mcircuit_1\u001b[0m \u001b[0;32mimport\u001b[0m \u001b[0mcirc_1\u001b[0m\u001b[0;34m\u001b[0m\u001b[0;34m\u001b[0m\u001b[0m\n\u001b[0m\u001b[1;32m      2\u001b[0m \u001b[0;32mimport\u001b[0m \u001b[0mpennylane\u001b[0m \u001b[0;32mas\u001b[0m \u001b[0mqml\u001b[0m\u001b[0;34m\u001b[0m\u001b[0;34m\u001b[0m\u001b[0m\n\u001b[1;32m      3\u001b[0m \u001b[0;32mfrom\u001b[0m \u001b[0mpennylane_qiskit\u001b[0m \u001b[0;32mimport\u001b[0m \u001b[0;34m*\u001b[0m\u001b[0;34m\u001b[0m\u001b[0;34m\u001b[0m\u001b[0m\n",
      "\u001b[0;32m~/Documents/UCI_MAIN/CLUBS/QC_UCI_Club/GroupProject/QuantumSelfDriving/circuit_ansatz/circuit_1.py\u001b[0m in \u001b[0;36m<module>\u001b[0;34m\u001b[0m\n\u001b[0;32m----> 1\u001b[0;31m \u001b[0;32mfrom\u001b[0m \u001b[0mgate_configurations\u001b[0m \u001b[0;32mimport\u001b[0m \u001b[0mcircuit\u001b[0m\u001b[0;34m\u001b[0m\u001b[0;34m\u001b[0m\u001b[0m\n\u001b[0m\u001b[1;32m      2\u001b[0m \u001b[0;34m\u001b[0m\u001b[0m\n\u001b[1;32m      3\u001b[0m \u001b[0mcirc_1\u001b[0m \u001b[0;34m=\u001b[0m \u001b[0mcircuit\u001b[0m\u001b[0;34m(\u001b[0m\u001b[0;36m4\u001b[0m\u001b[0;34m)\u001b[0m\u001b[0;34m\u001b[0m\u001b[0;34m\u001b[0m\u001b[0m\n\u001b[1;32m      4\u001b[0m \u001b[0mcirc_1\u001b[0m\u001b[0;34m.\u001b[0m\u001b[0mbuild_cascade_rx\u001b[0m\u001b[0;34m(\u001b[0m\u001b[0;34m)\u001b[0m\u001b[0;34m\u001b[0m\u001b[0;34m\u001b[0m\u001b[0m\n\u001b[1;32m      5\u001b[0m \u001b[0mcirc_1\u001b[0m\u001b[0;34m.\u001b[0m\u001b[0mbuild_cascade_rz\u001b[0m\u001b[0;34m(\u001b[0m\u001b[0;34m)\u001b[0m\u001b[0;34m\u001b[0m\u001b[0;34m\u001b[0m\u001b[0m\n",
      "\u001b[0;32m~/Documents/UCI_MAIN/CLUBS/QC_UCI_Club/GroupProject/QuantumSelfDriving/circuit_ansatz/gate_configurations.py\u001b[0m in \u001b[0;36m<module>\u001b[0;34m\u001b[0m\n\u001b[1;32m      3\u001b[0m \u001b[0;31m# Importing standard Qiskit libraries\u001b[0m\u001b[0;34m\u001b[0m\u001b[0;34m\u001b[0m\u001b[0m\n\u001b[1;32m      4\u001b[0m \u001b[0;32mfrom\u001b[0m \u001b[0mqiskit\u001b[0m \u001b[0;32mimport\u001b[0m \u001b[0mQuantumCircuit\u001b[0m\u001b[0;34m,\u001b[0m \u001b[0mtranspile\u001b[0m\u001b[0;34m,\u001b[0m \u001b[0mAer\u001b[0m\u001b[0;34m,\u001b[0m \u001b[0mIBMQ\u001b[0m\u001b[0;34m,\u001b[0m \u001b[0massemble\u001b[0m\u001b[0;34m,\u001b[0m \u001b[0mexecute\u001b[0m\u001b[0;34m,\u001b[0m \u001b[0mQuantumRegister\u001b[0m\u001b[0;34m,\u001b[0m \u001b[0mClassicalRegister\u001b[0m\u001b[0;34m\u001b[0m\u001b[0;34m\u001b[0m\u001b[0m\n\u001b[0;32m----> 5\u001b[0;31m \u001b[0;32mfrom\u001b[0m \u001b[0mqiskit\u001b[0m\u001b[0;34m.\u001b[0m\u001b[0mtools\u001b[0m\u001b[0;34m.\u001b[0m\u001b[0mjupyter\u001b[0m \u001b[0;32mimport\u001b[0m \u001b[0;34m*\u001b[0m\u001b[0;34m\u001b[0m\u001b[0;34m\u001b[0m\u001b[0m\n\u001b[0m\u001b[1;32m      6\u001b[0m \u001b[0;32mfrom\u001b[0m \u001b[0mqiskit\u001b[0m\u001b[0;34m.\u001b[0m\u001b[0mvisualization\u001b[0m \u001b[0;32mimport\u001b[0m \u001b[0;34m*\u001b[0m\u001b[0;34m\u001b[0m\u001b[0;34m\u001b[0m\u001b[0m\n\u001b[1;32m      7\u001b[0m \u001b[0;34m\u001b[0m\u001b[0m\n",
      "\u001b[0;32m~/opt/anaconda3/envs/py39/lib/python3.9/site-packages/qiskit/tools/jupyter/__init__.py\u001b[0m in \u001b[0;36m<module>\u001b[0;34m\u001b[0m\n\u001b[1;32m    103\u001b[0m \u001b[0;32mfrom\u001b[0m \u001b[0mqiskit\u001b[0m\u001b[0;34m.\u001b[0m\u001b[0mproviders\u001b[0m\u001b[0;34m.\u001b[0m\u001b[0mfake_provider\u001b[0m \u001b[0;32mimport\u001b[0m \u001b[0mFakeBackend\u001b[0m\u001b[0;34m\u001b[0m\u001b[0;34m\u001b[0m\u001b[0m\n\u001b[1;32m    104\u001b[0m \u001b[0;32mfrom\u001b[0m \u001b[0mqiskit\u001b[0m\u001b[0;34m.\u001b[0m\u001b[0mutils\u001b[0m \u001b[0;32mimport\u001b[0m \u001b[0moptionals\u001b[0m \u001b[0;32mas\u001b[0m \u001b[0m_optionals\u001b[0m\u001b[0;34m\u001b[0m\u001b[0;34m\u001b[0m\u001b[0m\n\u001b[0;32m--> 105\u001b[0;31m \u001b[0;32mfrom\u001b[0m \u001b[0;34m.\u001b[0m\u001b[0mjupyter_magics\u001b[0m \u001b[0;32mimport\u001b[0m \u001b[0mProgressBarMagic\u001b[0m\u001b[0;34m,\u001b[0m \u001b[0mStatusMagic\u001b[0m\u001b[0;34m\u001b[0m\u001b[0;34m\u001b[0m\u001b[0m\n\u001b[0m\u001b[1;32m    106\u001b[0m \u001b[0;32mfrom\u001b[0m \u001b[0;34m.\u001b[0m\u001b[0mprogressbar\u001b[0m \u001b[0;32mimport\u001b[0m \u001b[0mHTMLProgressBar\u001b[0m\u001b[0;34m\u001b[0m\u001b[0;34m\u001b[0m\u001b[0m\n\u001b[1;32m    107\u001b[0m \u001b[0;32mfrom\u001b[0m \u001b[0;34m.\u001b[0m\u001b[0mversion_table\u001b[0m \u001b[0;32mimport\u001b[0m \u001b[0mVersionTable\u001b[0m\u001b[0;34m\u001b[0m\u001b[0;34m\u001b[0m\u001b[0m\n",
      "\u001b[0;32m~/opt/anaconda3/envs/py39/lib/python3.9/site-packages/qiskit/tools/jupyter/jupyter_magics.py\u001b[0m in \u001b[0;36m<module>\u001b[0;34m\u001b[0m\n\u001b[1;32m     24\u001b[0m \u001b[0;32mfrom\u001b[0m \u001b[0mqiskit\u001b[0m\u001b[0;34m.\u001b[0m\u001b[0mtools\u001b[0m\u001b[0;34m.\u001b[0m\u001b[0mevents\u001b[0m\u001b[0;34m.\u001b[0m\u001b[0mprogressbar\u001b[0m \u001b[0;32mimport\u001b[0m \u001b[0mTextProgressBar\u001b[0m\u001b[0;34m\u001b[0m\u001b[0;34m\u001b[0m\u001b[0m\n\u001b[1;32m     25\u001b[0m \u001b[0;32mfrom\u001b[0m \u001b[0;34m.\u001b[0m\u001b[0mprogressbar\u001b[0m \u001b[0;32mimport\u001b[0m \u001b[0mHTMLProgressBar\u001b[0m\u001b[0;34m\u001b[0m\u001b[0;34m\u001b[0m\u001b[0m\n\u001b[0;32m---> 26\u001b[0;31m \u001b[0;32mfrom\u001b[0m \u001b[0;34m.\u001b[0m\u001b[0mlibrary\u001b[0m \u001b[0;32mimport\u001b[0m \u001b[0mcircuit_library_widget\u001b[0m\u001b[0;34m\u001b[0m\u001b[0;34m\u001b[0m\u001b[0m\n\u001b[0m\u001b[1;32m     27\u001b[0m \u001b[0;34m\u001b[0m\u001b[0m\n\u001b[1;32m     28\u001b[0m \u001b[0;34m\u001b[0m\u001b[0m\n",
      "\u001b[0;32m~/opt/anaconda3/envs/py39/lib/python3.9/site-packages/qiskit/tools/jupyter/library.py\u001b[0m in \u001b[0;36m<module>\u001b[0;34m\u001b[0m\n\u001b[1;32m     15\u001b[0m \u001b[0;34m\"\"\"A circuit library widget module\"\"\"\u001b[0m\u001b[0;34m\u001b[0m\u001b[0;34m\u001b[0m\u001b[0m\n\u001b[1;32m     16\u001b[0m \u001b[0;34m\u001b[0m\u001b[0m\n\u001b[0;32m---> 17\u001b[0;31m \u001b[0;32mimport\u001b[0m \u001b[0mipywidgets\u001b[0m \u001b[0;32mas\u001b[0m \u001b[0mwid\u001b[0m\u001b[0;34m\u001b[0m\u001b[0;34m\u001b[0m\u001b[0m\n\u001b[0m\u001b[1;32m     18\u001b[0m \u001b[0;32mfrom\u001b[0m \u001b[0mIPython\u001b[0m\u001b[0;34m.\u001b[0m\u001b[0mdisplay\u001b[0m \u001b[0;32mimport\u001b[0m \u001b[0mdisplay\u001b[0m\u001b[0;34m\u001b[0m\u001b[0;34m\u001b[0m\u001b[0m\n\u001b[1;32m     19\u001b[0m \u001b[0;32mfrom\u001b[0m \u001b[0mqiskit\u001b[0m \u001b[0;32mimport\u001b[0m \u001b[0mQuantumCircuit\u001b[0m\u001b[0;34m\u001b[0m\u001b[0;34m\u001b[0m\u001b[0m\n",
      "\u001b[0;31mModuleNotFoundError\u001b[0m: No module named 'ipywidgets'"
     ]
    }
   ],
   "source": [
    "from circuit_1 import circ_1\n",
    "import pennylane as qml\n",
    "from pennylane_qiskit import *"
   ]
  },
  {
   "cell_type": "code",
   "execution_count": null,
   "id": "788ea88f",
   "metadata": {},
   "outputs": [],
   "source": [
    "circ = circ_1.get_quantum_circuit()\n",
    "print(circ.draw())\n",
    "\n",
    "pnyln_circ = pq.load(circ)\n",
    "\n",
    "print(qml.draw(pnyln_circ))"
   ]
  }
 ],
 "metadata": {
  "kernelspec": {
   "display_name": "Python 3 (ipykernel)",
   "language": "python",
   "name": "python3"
  },
  "language_info": {
   "codemirror_mode": {
    "name": "ipython",
    "version": 3
   },
   "file_extension": ".py",
   "mimetype": "text/x-python",
   "name": "python",
   "nbconvert_exporter": "python",
   "pygments_lexer": "ipython3",
   "version": "3.9.13"
  }
 },
 "nbformat": 4,
 "nbformat_minor": 5
}
