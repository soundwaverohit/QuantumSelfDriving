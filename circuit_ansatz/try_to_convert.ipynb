{
 "cells": [
  {
   "cell_type": "code",
   "execution_count": 1,
   "id": "744389a5",
   "metadata": {},
   "outputs": [
    {
     "name": "stdout",
     "output_type": "stream",
     "text": [
      "Requirement already satisfied: pennylane_qiskit in /Users/dsikdar/opt/anaconda3/envs/py39/lib/python3.9/site-packages (0.29.0)\n",
      "Requirement already satisfied: mthree>=0.17 in /Users/dsikdar/opt/anaconda3/envs/py39/lib/python3.9/site-packages (from pennylane_qiskit) (2.2.0)\n",
      "Requirement already satisfied: qiskit>=0.32 in /Users/dsikdar/opt/anaconda3/envs/py39/lib/python3.9/site-packages (from pennylane_qiskit) (0.42.1)\n",
      "Requirement already satisfied: numpy in /Users/dsikdar/opt/anaconda3/envs/py39/lib/python3.9/site-packages (from pennylane_qiskit) (1.21.5)\n",
      "Requirement already satisfied: pennylane>=0.28 in /Users/dsikdar/opt/anaconda3/envs/py39/lib/python3.9/site-packages (from pennylane_qiskit) (0.29.1)\n",
      "Requirement already satisfied: networkx>=2.2 in /Users/dsikdar/opt/anaconda3/envs/py39/lib/python3.9/site-packages (from pennylane_qiskit) (3.0)\n",
      "Requirement already satisfied: qiskit-ibmq-provider>=0.19.2 in /Users/dsikdar/opt/anaconda3/envs/py39/lib/python3.9/site-packages (from mthree>=0.17->pennylane_qiskit) (0.20.2)\n",
      "Requirement already satisfied: psutil in /Users/dsikdar/opt/anaconda3/envs/py39/lib/python3.9/site-packages (from mthree>=0.17->pennylane_qiskit) (5.9.0)\n",
      "Requirement already satisfied: cython>=0.29 in /Users/dsikdar/opt/anaconda3/envs/py39/lib/python3.9/site-packages (from mthree>=0.17->pennylane_qiskit) (0.29.33)\n",
      "Requirement already satisfied: orjson>=3.0.0 in /Users/dsikdar/opt/anaconda3/envs/py39/lib/python3.9/site-packages (from mthree>=0.17->pennylane_qiskit) (3.8.8)\n",
      "Requirement already satisfied: scipy>=1.3 in /Users/dsikdar/opt/anaconda3/envs/py39/lib/python3.9/site-packages (from mthree>=0.17->pennylane_qiskit) (1.7.3)\n",
      "Requirement already satisfied: qiskit-terra>=0.21 in /Users/dsikdar/opt/anaconda3/envs/py39/lib/python3.9/site-packages (from mthree>=0.17->pennylane_qiskit) (0.23.3)\n",
      "Requirement already satisfied: autograd in /Users/dsikdar/opt/anaconda3/envs/py39/lib/python3.9/site-packages (from pennylane>=0.28->pennylane_qiskit) (1.5)\n",
      "Requirement already satisfied: pennylane-lightning>=0.28 in /Users/dsikdar/opt/anaconda3/envs/py39/lib/python3.9/site-packages (from pennylane>=0.28->pennylane_qiskit) (0.29.0)\n",
      "Requirement already satisfied: requests in /Users/dsikdar/opt/anaconda3/envs/py39/lib/python3.9/site-packages (from pennylane>=0.28->pennylane_qiskit) (2.28.1)\n",
      "Requirement already satisfied: toml in /Users/dsikdar/opt/anaconda3/envs/py39/lib/python3.9/site-packages (from pennylane>=0.28->pennylane_qiskit) (0.10.2)\n",
      "Requirement already satisfied: retworkx in /Users/dsikdar/opt/anaconda3/envs/py39/lib/python3.9/site-packages (from pennylane>=0.28->pennylane_qiskit) (0.12.1)\n",
      "Requirement already satisfied: semantic-version>=2.7 in /Users/dsikdar/opt/anaconda3/envs/py39/lib/python3.9/site-packages (from pennylane>=0.28->pennylane_qiskit) (2.10.0)\n",
      "Requirement already satisfied: appdirs in /Users/dsikdar/opt/anaconda3/envs/py39/lib/python3.9/site-packages (from pennylane>=0.28->pennylane_qiskit) (1.4.4)\n",
      "Requirement already satisfied: cachetools in /Users/dsikdar/opt/anaconda3/envs/py39/lib/python3.9/site-packages (from pennylane>=0.28->pennylane_qiskit) (5.3.0)\n",
      "Requirement already satisfied: autoray>=0.3.1 in /Users/dsikdar/opt/anaconda3/envs/py39/lib/python3.9/site-packages (from pennylane>=0.28->pennylane_qiskit) (0.6.3)\n",
      "Requirement already satisfied: qiskit-aer==0.12.0 in /Users/dsikdar/opt/anaconda3/envs/py39/lib/python3.9/site-packages (from qiskit>=0.32->pennylane_qiskit) (0.12.0)\n",
      "Requirement already satisfied: websocket-client>=1.5.1 in /Users/dsikdar/opt/anaconda3/envs/py39/lib/python3.9/site-packages (from qiskit-ibmq-provider>=0.19.2->mthree>=0.17->pennylane_qiskit) (1.5.1)\n",
      "Requirement already satisfied: python-dateutil>=2.8.0 in /Users/dsikdar/opt/anaconda3/envs/py39/lib/python3.9/site-packages (from qiskit-ibmq-provider>=0.19.2->mthree>=0.17->pennylane_qiskit) (2.8.2)\n",
      "Requirement already satisfied: websockets>=10.0 in /Users/dsikdar/opt/anaconda3/envs/py39/lib/python3.9/site-packages (from qiskit-ibmq-provider>=0.19.2->mthree>=0.17->pennylane_qiskit) (10.4)\n",
      "Requirement already satisfied: requests-ntlm<=1.1.0 in /Users/dsikdar/opt/anaconda3/envs/py39/lib/python3.9/site-packages (from qiskit-ibmq-provider>=0.19.2->mthree>=0.17->pennylane_qiskit) (1.1.0)\n",
      "Requirement already satisfied: urllib3>=1.21.1 in /Users/dsikdar/opt/anaconda3/envs/py39/lib/python3.9/site-packages (from qiskit-ibmq-provider>=0.19.2->mthree>=0.17->pennylane_qiskit) (1.26.11)\n",
      "Requirement already satisfied: symengine>=0.9 in /Users/dsikdar/opt/anaconda3/envs/py39/lib/python3.9/site-packages (from qiskit-terra>=0.21->mthree>=0.17->pennylane_qiskit) (0.9.2)\n",
      "Requirement already satisfied: rustworkx>=0.12.0 in /Users/dsikdar/opt/anaconda3/envs/py39/lib/python3.9/site-packages (from qiskit-terra>=0.21->mthree>=0.17->pennylane_qiskit) (0.12.1)\n",
      "Requirement already satisfied: dill>=0.3 in /Users/dsikdar/opt/anaconda3/envs/py39/lib/python3.9/site-packages (from qiskit-terra>=0.21->mthree>=0.17->pennylane_qiskit) (0.3.4)\n",
      "Requirement already satisfied: sympy>=1.3 in /Users/dsikdar/opt/anaconda3/envs/py39/lib/python3.9/site-packages (from qiskit-terra>=0.21->mthree>=0.17->pennylane_qiskit) (1.10.1)\n",
      "Requirement already satisfied: ply>=3.10 in /Users/dsikdar/opt/anaconda3/envs/py39/lib/python3.9/site-packages (from qiskit-terra>=0.21->mthree>=0.17->pennylane_qiskit) (3.11)\n",
      "Requirement already satisfied: stevedore>=3.0.0 in /Users/dsikdar/opt/anaconda3/envs/py39/lib/python3.9/site-packages (from qiskit-terra>=0.21->mthree>=0.17->pennylane_qiskit) (5.0.0)\n",
      "Requirement already satisfied: charset-normalizer<3,>=2 in /Users/dsikdar/opt/anaconda3/envs/py39/lib/python3.9/site-packages (from requests->pennylane>=0.28->pennylane_qiskit) (2.0.4)\n",
      "Requirement already satisfied: certifi>=2017.4.17 in /Users/dsikdar/opt/anaconda3/envs/py39/lib/python3.9/site-packages (from requests->pennylane>=0.28->pennylane_qiskit) (2022.12.7)\n",
      "Requirement already satisfied: idna<4,>=2.5 in /Users/dsikdar/opt/anaconda3/envs/py39/lib/python3.9/site-packages (from requests->pennylane>=0.28->pennylane_qiskit) (3.3)\n",
      "Requirement already satisfied: future>=0.15.2 in /Users/dsikdar/opt/anaconda3/envs/py39/lib/python3.9/site-packages (from autograd->pennylane>=0.28->pennylane_qiskit) (0.18.3)\n",
      "Requirement already satisfied: six>=1.5 in /Users/dsikdar/opt/anaconda3/envs/py39/lib/python3.9/site-packages (from python-dateutil>=2.8.0->qiskit-ibmq-provider>=0.19.2->mthree>=0.17->pennylane_qiskit) (1.16.0)\n",
      "Requirement already satisfied: cryptography>=1.3 in /Users/dsikdar/opt/anaconda3/envs/py39/lib/python3.9/site-packages (from requests-ntlm<=1.1.0->qiskit-ibmq-provider>=0.19.2->mthree>=0.17->pennylane_qiskit) (37.0.1)\n",
      "Requirement already satisfied: ntlm-auth>=1.0.2 in /Users/dsikdar/opt/anaconda3/envs/py39/lib/python3.9/site-packages (from requests-ntlm<=1.1.0->qiskit-ibmq-provider>=0.19.2->mthree>=0.17->pennylane_qiskit) (1.5.0)\n",
      "Requirement already satisfied: pbr!=2.1.0,>=2.0.0 in /Users/dsikdar/opt/anaconda3/envs/py39/lib/python3.9/site-packages (from stevedore>=3.0.0->qiskit-terra>=0.21->mthree>=0.17->pennylane_qiskit) (5.11.1)\n",
      "Requirement already satisfied: mpmath>=0.19 in /Users/dsikdar/opt/anaconda3/envs/py39/lib/python3.9/site-packages (from sympy>=1.3->qiskit-terra>=0.21->mthree>=0.17->pennylane_qiskit) (1.2.1)\n",
      "Requirement already satisfied: cffi>=1.12 in /Users/dsikdar/opt/anaconda3/envs/py39/lib/python3.9/site-packages (from cryptography>=1.3->requests-ntlm<=1.1.0->qiskit-ibmq-provider>=0.19.2->mthree>=0.17->pennylane_qiskit) (1.15.1)\n",
      "Requirement already satisfied: pycparser in /Users/dsikdar/opt/anaconda3/envs/py39/lib/python3.9/site-packages (from cffi>=1.12->cryptography>=1.3->requests-ntlm<=1.1.0->qiskit-ibmq-provider>=0.19.2->mthree>=0.17->pennylane_qiskit) (2.21)\n",
      "Note: you may need to restart the kernel to use updated packages.\n"
     ]
    }
   ],
   "source": [
    "pip install pennylane_qiskit"
   ]
  },
  {
   "cell_type": "code",
   "execution_count": 4,
   "id": "41bc5385",
   "metadata": {},
   "outputs": [],
   "source": [
    "from circuit_1 import circ_1\n",
    "import pennylane as qml\n",
    "import pennylane_qiskit as pq"
   ]
  },
  {
   "cell_type": "code",
   "execution_count": 7,
   "id": "4ed836a1",
   "metadata": {},
   "outputs": [
    {
     "name": "stdout",
     "output_type": "stream",
     "text": [
      "      ┌────────────┐┌─────────────┐\n",
      "q_0: ─┤ Rx(3.2067) ├┤ Rz(0.74519) ├\n",
      "      ├────────────┤└┬────────────┤\n",
      "q_1: ─┤ Rx(4.6136) ├─┤ Rz(4.4729) ├\n",
      "      ├────────────┤ ├────────────┤\n",
      "q_2: ─┤ Rx(5.0915) ├─┤ Rz(1.7939) ├\n",
      "     ┌┴────────────┤ ├────────────┤\n",
      "q_3: ┤ Rx(0.44016) ├─┤ Rz(4.9583) ├\n",
      "     └─────────────┘ └────────────┘\n",
      "c: 4/══════════════════════════════\n",
      "                                   \n"
     ]
    }
   ],
   "source": [
    "circ = circ_1.get_quantum_circuit()\n",
    "print(circ.draw())\n",
    "\n",
    "pnyln_circ = pq.load(circ)"
   ]
  },
  {
   "cell_type": "code",
   "execution_count": 9,
   "id": "f3167674",
   "metadata": {},
   "outputs": [
    {
     "name": "stdout",
     "output_type": "stream",
     "text": [
      "0: ──RX(3.21)──RZ(0.75)─┤  \n",
      "1: ──RX(4.61)──RZ(4.47)─┤  \n",
      "2: ──RX(5.09)──RZ(1.79)─┤  \n",
      "3: ──RX(0.44)──RZ(4.96)─┤  \n"
     ]
    }
   ],
   "source": [
    "circ_drawer = qml.draw(pnyln_circ)\n",
    "print(circ_drawer())"
   ]
  },
  {
   "cell_type": "code",
   "execution_count": null,
   "id": "361e3da5",
   "metadata": {},
   "outputs": [],
   "source": []
  }
 ],
 "metadata": {
  "kernelspec": {
   "display_name": "Python 3 (ipykernel)",
   "language": "python",
   "name": "python3"
  },
  "language_info": {
   "codemirror_mode": {
    "name": "ipython",
    "version": 3
   },
   "file_extension": ".py",
   "mimetype": "text/x-python",
   "name": "python",
   "nbconvert_exporter": "python",
   "pygments_lexer": "ipython3",
   "version": "3.9.13"
  }
 },
 "nbformat": 4,
 "nbformat_minor": 5
}
