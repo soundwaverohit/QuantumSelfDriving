{
 "cells": [
  {
   "cell_type": "code",
   "execution_count": 1,
   "id": "7aa96753",
   "metadata": {},
   "outputs": [],
   "source": [
    "import pennylane as qml\n",
    "import tensorflow as tf"
   ]
  },
  {
   "cell_type": "code",
   "execution_count": 2,
   "id": "widespread-lesson",
   "metadata": {},
   "outputs": [],
   "source": [
    "num_of_qubits = 4"
   ]
  },
  {
   "cell_type": "code",
   "execution_count": 3,
   "id": "featured-singles",
   "metadata": {},
   "outputs": [],
   "source": [
    "def data_encoding(inputs):\n",
    "    for index, data_input in enumerate(inputs):\n",
    "        qml.RX(data_input, wires=index)\n",
    "\n",
    "def quantum_black_box(weights, n_qubits):\n",
    "    for idx in range(n_qubits-1):\n",
    "        qml.CNOT(wires=[idx, idx+1])\n",
    "    for idx in range(n_qubits): \n",
    "        qml.RY(weights[idx], wires=idx)"
   ]
  },
  {
   "cell_type": "code",
   "execution_count": 4,
   "id": "collectible-application",
   "metadata": {},
   "outputs": [],
   "source": [
    "dev = qml.device('default.qubit', wires=num_of_qubits, shots=1000)\n",
    "#print(f'Device (dev):\\n----------------------------------\\n{dev}')\n",
    "\n",
    "@qml.qnode(dev)\n",
    "def qnode(inputs, weights):\n",
    "    #print('Inputs  :', inputs)\n",
    "    #print('Weights :', weights, '\\n')\n",
    "    \n",
    "    data_encoding(inputs)\n",
    "    quantum_black_box(weights, num_of_qubits)\n",
    "\n",
    "    return tuple([qml.expval(qml.PauliZ(i)) for i in range(num_of_qubits)])\n",
    "\n",
    "weight_shapes = {\"weights\": 4}"
   ]
  },
  {
   "cell_type": "code",
   "execution_count": 5,
   "id": "official-bulletin",
   "metadata": {},
   "outputs": [],
   "source": [
    "inp = [0, 0.1, 1.5, 0.33]\n",
    "wts = [0.25, 0.33, 0.75, 0.67]"
   ]
  },
  {
   "cell_type": "code",
   "execution_count": 6,
   "id": "valued-scout",
   "metadata": {},
   "outputs": [
    {
     "name": "stdout",
     "output_type": "stream",
     "text": [
      "0: ──RX(0.00)─╭●──RY(0.25)─────────────────────┤  <Z>\n",
      "1: ──RX(0.10)─╰X─╭●─────────RY(0.33)───────────┤  <Z>\n",
      "2: ──RX(1.50)────╰X────────╭●─────────RY(0.75)─┤  <Z>\n",
      "3: ──RX(0.33)──────────────╰X─────────RY(0.67)─┤  <Z>\n"
     ]
    }
   ],
   "source": [
    "print(qml.draw(qnode)(inputs=inp, weights=wts))"
   ]
  },
  {
   "cell_type": "code",
   "execution_count": 7,
   "id": "preceding-alert",
   "metadata": {},
   "outputs": [],
   "source": [
    "qlayer = qml.qnn.KerasLayer(qnode, weight_shapes, output_dim=4, dtype='float64')"
   ]
  },
  {
   "cell_type": "code",
   "execution_count": 8,
   "id": "shaped-naples",
   "metadata": {},
   "outputs": [
    {
     "data": {
      "text/plain": [
       "{'name': 'keras_layer',\n",
       " 'trainable': True,\n",
       " 'dtype': 'float64',\n",
       " 'dynamic': True,\n",
       " 'output_dim': 4,\n",
       " 'weight_specs': {},\n",
       " 'weight_shapes': {'weights': (4,)},\n",
       " 'argnum': None}"
      ]
     },
     "execution_count": 8,
     "metadata": {},
     "output_type": "execute_result"
    }
   ],
   "source": [
    "qlayer.get_config()"
   ]
  },
  {
   "cell_type": "code",
   "execution_count": 9,
   "id": "available-world",
   "metadata": {},
   "outputs": [
    {
     "name": "stdout",
     "output_type": "stream",
     "text": [
      "tf.Tensor([0.966 0.94  0.036 0.028], shape=(4,), dtype=float64)\n"
     ]
    }
   ],
   "source": [
    "t = qlayer.qnode(inp, wts)\n",
    "print(t)"
   ]
  },
  {
   "cell_type": "code",
   "execution_count": null,
   "id": "foreign-norwegian",
   "metadata": {},
   "outputs": [],
   "source": []
  }
 ],
 "metadata": {
  "kernelspec": {
   "display_name": "Python 3",
   "language": "python",
   "name": "python3"
  },
  "language_info": {
   "codemirror_mode": {
    "name": "ipython",
    "version": 3
   },
   "file_extension": ".py",
   "mimetype": "text/x-python",
   "name": "python",
   "nbconvert_exporter": "python",
   "pygments_lexer": "ipython3",
   "version": "3.8.5"
  }
 },
 "nbformat": 4,
 "nbformat_minor": 5
}
