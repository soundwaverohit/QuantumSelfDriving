{
 "cells": [
  {
   "cell_type": "code",
   "execution_count": 1,
   "id": "d953c719",
   "metadata": {},
   "outputs": [
    {
     "name": "stdout",
     "output_type": "stream",
     "text": [
      "Collecting pennylane_qiskit\n",
      "  Downloading PennyLane_qiskit-0.29.0-py3-none-any.whl (34 kB)\n",
      "Requirement already satisfied: numpy in c:\\users\\diptanshu\\anaconda3\\envs\\tf\\lib\\site-packages (from pennylane_qiskit) (1.19.2)\n",
      "Requirement already satisfied: networkx>=2.2 in c:\\users\\diptanshu\\anaconda3\\envs\\tf\\lib\\site-packages (from pennylane_qiskit) (2.6.2)\n",
      "Collecting mthree>=0.17\n",
      "  Downloading mthree-2.3.0-cp38-cp38-win_amd64.whl (1.2 MB)\n",
      "Requirement already satisfied: psutil in c:\\users\\diptanshu\\anaconda3\\envs\\tf\\lib\\site-packages (from mthree>=0.17->pennylane_qiskit) (5.8.0)\n",
      "Requirement already satisfied: cython>=0.29 in c:\\users\\diptanshu\\anaconda3\\envs\\tf\\lib\\site-packages (from mthree>=0.17->pennylane_qiskit) (0.29.22)\n",
      "Requirement already satisfied: scipy>=1.3 in c:\\users\\diptanshu\\anaconda3\\envs\\tf\\lib\\site-packages (from mthree>=0.17->pennylane_qiskit) (1.6.0)\n",
      "Collecting orjson>=3.0.0\n",
      "  Downloading orjson-3.8.8-cp38-none-win_amd64.whl (204 kB)\n",
      "Collecting pennylane>=0.28\n",
      "  Downloading PennyLane-0.29.1-py3-none-any.whl (1.3 MB)\n",
      "Requirement already satisfied: requests in c:\\users\\diptanshu\\anaconda3\\envs\\tf\\lib\\site-packages (from pennylane>=0.28->pennylane_qiskit) (2.25.1)\n",
      "Requirement already satisfied: toml in c:\\users\\diptanshu\\anaconda3\\envs\\tf\\lib\\site-packages (from pennylane>=0.28->pennylane_qiskit) (0.10.1)\n",
      "Requirement already satisfied: retworkx in c:\\users\\diptanshu\\anaconda3\\envs\\tf\\lib\\site-packages (from pennylane>=0.28->pennylane_qiskit) (0.8.0)\n",
      "Requirement already satisfied: appdirs in c:\\users\\diptanshu\\anaconda3\\envs\\tf\\lib\\site-packages (from pennylane>=0.28->pennylane_qiskit) (1.4.4)\n",
      "Requirement already satisfied: autograd in c:\\users\\diptanshu\\anaconda3\\envs\\tf\\lib\\site-packages (from pennylane>=0.28->pennylane_qiskit) (1.3)\n",
      "Requirement already satisfied: cachetools in c:\\users\\diptanshu\\anaconda3\\envs\\tf\\lib\\site-packages (from pennylane>=0.28->pennylane_qiskit) (4.2.1)\n",
      "Collecting autoray>=0.3.1\n",
      "  Downloading autoray-0.6.3-py3-none-any.whl (48 kB)\n",
      "Collecting pennylane-lightning>=0.28\n",
      "  Downloading PennyLane_Lightning-0.29.0-cp38-cp38-win_amd64.whl (4.6 MB)\n",
      "Collecting qiskit>=0.32\n",
      "  Downloading qiskit-0.42.1.tar.gz (14 kB)\n",
      "Collecting qiskit-aer==0.12.0\n",
      "  Downloading qiskit_aer-0.12.0-cp38-cp38-win_amd64.whl (9.6 MB)\n",
      "Collecting qiskit-ibmq-provider>=0.19.2\n",
      "  Downloading qiskit_ibmq_provider-0.20.2-py3-none-any.whl (241 kB)\n",
      "Requirement already satisfied: requests-ntlm<=1.1.0 in c:\\users\\diptanshu\\anaconda3\\envs\\tf\\lib\\site-packages (from qiskit-ibmq-provider>=0.19.2->mthree>=0.17->pennylane_qiskit) (1.1.0)\n",
      "Requirement already satisfied: python-dateutil>=2.8.0 in c:\\users\\diptanshu\\anaconda3\\envs\\tf\\lib\\site-packages (from qiskit-ibmq-provider>=0.19.2->mthree>=0.17->pennylane_qiskit) (2.8.1)\n",
      "Requirement already satisfied: urllib3>=1.21.1 in c:\\users\\diptanshu\\anaconda3\\envs\\tf\\lib\\site-packages (from qiskit-ibmq-provider>=0.19.2->mthree>=0.17->pennylane_qiskit) (1.26.3)\n",
      "Collecting qiskit-terra>=0.21\n",
      "  Downloading qiskit_terra-0.23.3-cp38-cp38-win_amd64.whl (4.6 MB)\n",
      "Requirement already satisfied: dill>=0.3 in c:\\users\\diptanshu\\anaconda3\\envs\\tf\\lib\\site-packages (from qiskit-terra>=0.21->mthree>=0.17->pennylane_qiskit) (0.3.3)\n",
      "Requirement already satisfied: ply>=3.10 in c:\\users\\diptanshu\\anaconda3\\envs\\tf\\lib\\site-packages (from qiskit-terra>=0.21->mthree>=0.17->pennylane_qiskit) (3.11)\n",
      "Requirement already satisfied: sympy>=1.3 in c:\\users\\diptanshu\\anaconda3\\envs\\tf\\lib\\site-packages (from qiskit-terra>=0.21->mthree>=0.17->pennylane_qiskit) (1.8)\n",
      "Requirement already satisfied: six>=1.5 in c:\\users\\diptanshu\\anaconda3\\envs\\tf\\lib\\site-packages (from python-dateutil>=2.8.0->qiskit-ibmq-provider>=0.19.2->mthree>=0.17->pennylane_qiskit) (1.15.0)\n",
      "Requirement already satisfied: idna<3,>=2.5 in c:\\users\\diptanshu\\anaconda3\\envs\\tf\\lib\\site-packages (from requests->pennylane>=0.28->pennylane_qiskit) (2.10)\n",
      "Requirement already satisfied: certifi>=2017.4.17 in c:\\users\\diptanshu\\anaconda3\\envs\\tf\\lib\\site-packages (from requests->pennylane>=0.28->pennylane_qiskit) (2021.10.8)\n",
      "Requirement already satisfied: chardet<5,>=3.0.2 in c:\\users\\diptanshu\\anaconda3\\envs\\tf\\lib\\site-packages (from requests->pennylane>=0.28->pennylane_qiskit) (3.0.4)\n",
      "Requirement already satisfied: ntlm-auth>=1.0.2 in c:\\users\\diptanshu\\anaconda3\\envs\\tf\\lib\\site-packages (from requests-ntlm<=1.1.0->qiskit-ibmq-provider>=0.19.2->mthree>=0.17->pennylane_qiskit) (1.5.0)\n",
      "Requirement already satisfied: cryptography>=1.3 in c:\\users\\diptanshu\\anaconda3\\envs\\tf\\lib\\site-packages (from requests-ntlm<=1.1.0->qiskit-ibmq-provider>=0.19.2->mthree>=0.17->pennylane_qiskit) (2.9.2)\n",
      "Requirement already satisfied: cffi!=1.11.3,>=1.8 in c:\\users\\diptanshu\\anaconda3\\envs\\tf\\lib\\site-packages (from cryptography>=1.3->requests-ntlm<=1.1.0->qiskit-ibmq-provider>=0.19.2->mthree>=0.17->pennylane_qiskit) (1.14.4)\n",
      "Requirement already satisfied: pycparser in c:\\users\\diptanshu\\anaconda3\\envs\\tf\\lib\\site-packages (from cffi!=1.11.3,>=1.8->cryptography>=1.3->requests-ntlm<=1.1.0->qiskit-ibmq-provider>=0.19.2->mthree>=0.17->pennylane_qiskit) (2.20)\n",
      "Collecting rustworkx>=0.12.0\n",
      "  Downloading rustworkx-0.12.1-cp38-cp38-win_amd64.whl (1.5 MB)\n",
      "Collecting semantic-version>=2.7\n",
      "  Downloading semantic_version-2.10.0-py2.py3-none-any.whl (15 kB)\n",
      "Collecting stevedore>=3.0.0\n",
      "  Downloading stevedore-5.0.0-py3-none-any.whl (49 kB)\n",
      "Collecting pbr!=2.1.0,>=2.0.0\n",
      "  Downloading pbr-5.11.1-py2.py3-none-any.whl (112 kB)\n",
      "Requirement already satisfied: mpmath>=0.19 in c:\\users\\diptanshu\\anaconda3\\envs\\tf\\lib\\site-packages (from sympy>=1.3->qiskit-terra>=0.21->mthree>=0.17->pennylane_qiskit) (1.2.1)\n",
      "Collecting websocket-client>=1.5.1\n",
      "  Downloading websocket_client-1.5.1-py3-none-any.whl (55 kB)\n",
      "Collecting websockets>=10.0\n",
      "  Downloading websockets-10.4-cp38-cp38-win_amd64.whl (101 kB)\n",
      "Requirement already satisfied: future>=0.15.2 in c:\\users\\diptanshu\\anaconda3\\envs\\tf\\lib\\site-packages (from autograd->pennylane>=0.28->pennylane_qiskit) (0.18.2)\n",
      "Building wheels for collected packages: qiskit\n",
      "  Building wheel for qiskit (setup.py): started\n",
      "  Building wheel for qiskit (setup.py): finished with status 'done'\n",
      "  Created wheel for qiskit: filename=qiskit-0.42.1-py3-none-any.whl size=12925 sha256=358f56a69872521e4ec683b615903425bc1c52fa9535048ebc5aab388740f24e\n",
      "  Stored in directory: c:\\users\\diptanshu\\appdata\\local\\pip\\cache\\wheels\\28\\cf\\a2\\1e42273431c5aa0ec2fb19171d44c6fd25f168e3575d771f49\n",
      "Successfully built qiskit\n",
      "Installing collected packages: pbr, stevedore, rustworkx, websockets, websocket-client, qiskit-terra, semantic-version, qiskit-ibmq-provider, qiskit-aer, pennylane-lightning, orjson, autoray, qiskit, pennylane, mthree, pennylane-qiskit\n",
      "  Attempting uninstall: websockets\n",
      "    Found existing installation: websockets 8.1\n",
      "    Uninstalling websockets-8.1:\n",
      "      Successfully uninstalled websockets-8.1\n",
      "  Attempting uninstall: qiskit-terra\n",
      "    Found existing installation: qiskit-terra 0.16.4\n",
      "    Uninstalling qiskit-terra-0.16.4:\n",
      "      Successfully uninstalled qiskit-terra-0.16.4\n",
      "  Attempting uninstall: semantic-version\n",
      "    Found existing installation: semantic-version 2.6.0\n",
      "    Uninstalling semantic-version-2.6.0:\n",
      "      Successfully uninstalled semantic-version-2.6.0\n",
      "  Attempting uninstall: qiskit-ibmq-provider\n",
      "    Found existing installation: qiskit-ibmq-provider 0.12.2\n",
      "    Uninstalling qiskit-ibmq-provider-0.12.2:\n",
      "      Successfully uninstalled qiskit-ibmq-provider-0.12.2\n",
      "  Attempting uninstall: qiskit-aer\n",
      "    Found existing installation: qiskit-aer 0.7.6\n",
      "    Uninstalling qiskit-aer-0.7.6:\n",
      "      Successfully uninstalled qiskit-aer-0.7.6\n",
      "  Attempting uninstall: autoray\n",
      "    Found existing installation: autoray 0.2.5\n",
      "    Uninstalling autoray-0.2.5:\n",
      "      Successfully uninstalled autoray-0.2.5\n",
      "  Attempting uninstall: qiskit\n",
      "    Found existing installation: qiskit 0.24.1\n",
      "    Uninstalling qiskit-0.24.1:\n",
      "      Successfully uninstalled qiskit-0.24.1\n",
      "  Attempting uninstall: pennylane\n",
      "    Found existing installation: PennyLane 0.16.0\n",
      "    Uninstalling PennyLane-0.16.0:\n",
      "      Successfully uninstalled PennyLane-0.16.0\n",
      "Successfully installed autoray-0.6.3 mthree-2.3.0 orjson-3.8.8 pbr-5.11.1 pennylane-0.29.1 pennylane-lightning-0.29.0 pennylane-qiskit-0.29.0 qiskit-0.42.1 qiskit-aer-0.12.0 qiskit-ibmq-provider-0.20.2 qiskit-terra-0.23.3 rustworkx-0.12.1 semantic-version-2.10.0 stevedore-5.0.0 websocket-client-1.5.1 websockets-10.4\n",
      "Note: you may need to restart the kernel to use updated packages.\n"
     ]
    }
   ],
   "source": [
    "pip install pennylane_qiskit"
   ]
  },
  {
   "cell_type": "markdown",
   "id": "7017b7d3",
   "metadata": {},
   "source": [
    "## Imports"
   ]
  },
  {
   "cell_type": "code",
   "execution_count": 2,
   "id": "7aa96753",
   "metadata": {},
   "outputs": [],
   "source": [
    "import pennylane as qml\n",
    "import pennylane_qiskit as pq"
   ]
  },
  {
   "cell_type": "code",
   "execution_count": 4,
   "id": "1506b687",
   "metadata": {},
   "outputs": [
    {
     "name": "stdout",
     "output_type": "stream",
     "text": [
      "The type of circ_1 is 'gate_configurations.circuit'>\n",
      "\n",
      "After we use the method \"get_quantum_circuit()\", we can obtain the actual circuit, whose type is 'qiskit.circuit.quantumcircuit.QuantumCircuit'>\n",
      "\n",
      "0: ──RX(4.14)──RZ(0.39)─╭●───────┤  \n",
      "1: ──RX(4.59)──RZ(4.62)─╰X─╭●────┤  \n",
      "2: ──RX(5.58)──RZ(2.31)────╰X─╭●─┤  \n",
      "3: ──RX(4.83)──RZ(1.24)───────╰X─┤  \n"
     ]
    }
   ],
   "source": [
    "# For example: \n",
    "\n",
    "# Let us import circ_1 from circuit1.py\n",
    "from circuit_2 import circ_2 as qc\n",
    "\n",
    "# Let us obtain the QISKIT circuit stored inside the circ_1 object\n",
    "qiskit_circ = qc.get_quantum_circuit()\n",
    "\n",
    "# To check our understanding, we can print the types of each object (as below)\n",
    "print(f'The type of circ_1 is {str(type(qc))[7:]}\\n')\n",
    "print(f'After we use the method \"get_quantum_circuit()\", \\\n",
    "we can obtain the actual circuit, whose type is {str(type(qiskit_circ))[7:]}\\n')\n",
    "\n",
    "# Since we have the QISKIT circuit, we can convert it to a PennyLane circuit\n",
    "pennylane_circ = pq.load(qiskit_circ)\n",
    "\n",
    "# We can print the circuit using Pennylane's draw command\n",
    "# Notice we are using the Pennylane library (qml)\n",
    "circ_drawer = qml.draw(pennylane_circ)\n",
    "print(circ_drawer())"
   ]
  },
  {
   "cell_type": "markdown",
   "id": "5532533c",
   "metadata": {},
   "source": [
    "### You must execute the following code to convert a QISKIT circuit into a Pennylane quantum circuit. Look at the example above for more details. \n",
    "\n",
    "```\n",
    "qiskit_circ = qc.get_quantum_circuit()\n",
    "\n",
    "pennylane_circ = pq.load(qiskit_circ)\n",
    "\n",
    "# To visualize only\n",
    "circ_drawer = qml.draw(pennylane_circ)\n",
    "print(circ_drawer)\n",
    "```"
   ]
  }
 ],
 "metadata": {
  "kernelspec": {
   "display_name": "Python 3",
   "language": "python",
   "name": "python3"
  },
  "language_info": {
   "codemirror_mode": {
    "name": "ipython",
    "version": 3
   },
   "file_extension": ".py",
   "mimetype": "text/x-python",
   "name": "python",
   "nbconvert_exporter": "python",
   "pygments_lexer": "ipython3",
   "version": "3.8.5"
  }
 },
 "nbformat": 4,
 "nbformat_minor": 5
}
