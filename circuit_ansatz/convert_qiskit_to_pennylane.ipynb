{
 "cells": [
  {
   "cell_type": "code",
   "execution_count": 1,
   "id": "d953c719",
   "metadata": {},
   "outputs": [],
   "source": [
    "# Only execute once: \n",
    "# pip install pennylane_qiskit"
   ]
  },
  {
   "cell_type": "markdown",
   "id": "7017b7d3",
   "metadata": {},
   "source": [
    "## Imports"
   ]
  },
  {
   "cell_type": "code",
   "execution_count": 1,
   "id": "7aa96753",
   "metadata": {},
   "outputs": [],
   "source": [
    "import pennylane as qml\n",
    "import pennylane_qiskit as pq\n",
    "from gate_configurations import circuit\n",
    "\n",
    "import tensorflow as tf"
   ]
  },
  {
   "cell_type": "raw",
   "id": "reasonable-north",
   "metadata": {},
   "source": [
    "# For example: \n",
    "\n",
    "# Let us import circ_1 from circuit1.py\n",
    "from circuit_2 import circ_2 as qc\n",
    "\n",
    "# Let us obtain the QISKIT circuit stored inside the circ_1 object\n",
    "qiskit_circ = qc.get_quantum_circuit()\n",
    "\n",
    "# To check our understanding, we can print the types of each object (as below)\n",
    "print(f'The type of circ_1 is {str(type(qc))[7:]}\\n')\n",
    "print(f'After we use the method \"get_quantum_circuit()\", \\\n",
    "we can obtain the actual circuit, whose type is {str(type(qiskit_circ))[7:]}\\n')\n",
    "\n",
    "# Since we have the QISKIT circuit, we can convert it to a PennyLane circuit\n",
    "pennylane_circ = pq.load(qiskit_circ)\n",
    "\n",
    "# We can print the circuit using Pennylane's draw command\n",
    "# Notice we are using the Pennylane library (qml)\n",
    "circ_drawer = qml.draw(pennylane_circ)\n",
    "print(circ_drawer())"
   ]
  },
  {
   "cell_type": "markdown",
   "id": "immune-persian",
   "metadata": {},
   "source": [
    "### -----------------------------------------------------------------------------------------"
   ]
  },
  {
   "cell_type": "code",
   "execution_count": 2,
   "id": "widespread-lesson",
   "metadata": {},
   "outputs": [
    {
     "name": "stdout",
     "output_type": "stream",
     "text": [
      "Param Dict: {'weights_0': 0.5, 'weights_1': 0.33, 'weights_2': 0.67, 'weights_3': 1.0, 'weights_4': 0.0, 'weights_5': 0.0, 'weights_6': 1.0, 'weights_7': 0.707} \n",
      "\n",
      "     ┌─────────┐   ┌───────┐                 \n",
      "q_0: ┤ Rx(0.5) ├───┤ Rz(0) ├────■────────────\n",
      "     ├─────────┴┐  ├───────┤  ┌─┴─┐          \n",
      "q_1: ┤ Rx(0.33) ├──┤ Rz(0) ├──┤ X ├──■───────\n",
      "     ├──────────┤  ├───────┤  └───┘┌─┴─┐     \n",
      "q_2: ┤ Rx(0.67) ├──┤ Rz(1) ├───────┤ X ├──■──\n",
      "     └┬───────┬─┘┌─┴───────┴─┐     └───┘┌─┴─┐\n",
      "q_3: ─┤ Rx(1) ├──┤ Rz(0.707) ├──────────┤ X ├\n",
      "      └───────┘  └───────────┘          └───┘\n",
      "c: 4/════════════════════════════════════════\n",
      "                                             \n"
     ]
    }
   ],
   "source": [
    "circ = circuit(4)\n",
    "circ.build_cascade_rx([0.5, 0.33, 0.67, 1.0])\n",
    "circ.build_cascade_rz([0.0, 0.0, 1.0, 0.707])\n",
    "circ.cx_almost_all_neighbors()\n",
    "\n",
    "print('Param Dict:', circ.get_rotation_params(), '\\n')\n",
    "print(circ.get_quantum_circuit().draw())"
   ]
  },
  {
   "cell_type": "code",
   "execution_count": 37,
   "id": "absolute-catch",
   "metadata": {},
   "outputs": [],
   "source": [
    "weight_shapes = circ.get_rotation_params()"
   ]
  },
  {
   "cell_type": "code",
   "execution_count": 38,
   "id": "sudden-russell",
   "metadata": {},
   "outputs": [
    {
     "name": "stdout",
     "output_type": "stream",
     "text": [
      "0: ──RX(0.50)──RZ(0.00)─╭●───────┤  \n",
      "1: ──RX(0.33)──RZ(0.00)─╰X─╭●────┤  \n",
      "2: ──RX(0.67)──RZ(1.00)────╰X─╭●─┤  \n",
      "3: ──RX(1.00)──RZ(0.71)───────╰X─┤  \n"
     ]
    }
   ],
   "source": [
    "qiskit_circ = circ.get_quantum_circuit()\n",
    "pennylane_circ = pq.load(qiskit_circ)\n",
    "\n",
    "circ_drawer = qml.draw(pennylane_circ)\n",
    "print(circ_drawer())"
   ]
  },
  {
   "cell_type": "code",
   "execution_count": 29,
   "id": "collectible-application",
   "metadata": {},
   "outputs": [],
   "source": [
    "n_qubits = 4\n",
    "\n",
    "dev = qml.device('default.qubit', wires=n_qubits, shots=1000)\n",
    "\n",
    "@qml.qnode(dev)\n",
    "def circuit(inputs, w0, w1, w2, w3, w4, w5, w6, w7):\n",
    "    qml.RX(inputs[0], wires=0)\n",
    "    qml.RX(inputs[1], wires=1)\n",
    "    qml.RX(inputs[2], wires=2)\n",
    "    qml.RX(inputs[3], wires=3)\n",
    "    pennylane_circ()\n",
    "    return qml.expval(qml.PauliZ(0)), qml.expval(qml.PauliZ(1)), qml.expval(qml.PauliZ(2)), qml.expval(qml.PauliZ(3))\n",
    "\n",
    "@qml.qnode(dev)\n",
    "def qnode(inputs, weights_0, weight_1):\n",
    "    qml.RX(inputs[0], wires=0)\n",
    "    qml.RX(inputs[1], wires=1)\n",
    "    qml.Rot(*weights_0, wires=0)\n",
    "    qml.RY(weight_1, wires=1)\n",
    "    qml.CNOT(wires=[0, 1])\n",
    "    return qml.expval(qml.PauliZ(0)), qml.expval(qml.PauliZ(1))\n",
    "\n",
    "weight_shapes = {\"weights_0\": 3, \"weight_1\": 1}\n",
    "circuit = qml.QNode(circuit, dev)"
   ]
  },
  {
   "cell_type": "code",
   "execution_count": 30,
   "id": "northern-interstate",
   "metadata": {},
   "outputs": [
    {
     "data": {
      "text/plain": [
       "<QNode: wires=4, device='default.qubit', interface='auto', diff_method='best'>"
      ]
     },
     "execution_count": 30,
     "metadata": {},
     "output_type": "execute_result"
    }
   ],
   "source": [
    "circuit"
   ]
  },
  {
   "cell_type": "code",
   "execution_count": 31,
   "id": "affiliated-prompt",
   "metadata": {},
   "outputs": [
    {
     "data": {
      "text/plain": [
       "{'weights_0': 3, 'weight_1': 1}"
      ]
     },
     "execution_count": 31,
     "metadata": {},
     "output_type": "execute_result"
    }
   ],
   "source": [
    "weight_shapes"
   ]
  },
  {
   "cell_type": "code",
   "execution_count": 24,
   "id": "valued-scout",
   "metadata": {},
   "outputs": [],
   "source": [
    "qlayer = qml.qnn.KerasLayer(qnode, weight_shapes, output_dim=2)"
   ]
  },
  {
   "cell_type": "markdown",
   "id": "5532533c",
   "metadata": {},
   "source": [
    "### You must execute the following code to convert a QISKIT circuit into a Pennylane quantum circuit. Look at the example above for more details. \n",
    "\n",
    "```\n",
    "qiskit_circ = qc.get_quantum_circuit()\n",
    "\n",
    "pennylane_circ = pq.load(qiskit_circ)\n",
    "\n",
    "# To visualize only\n",
    "circ_drawer = qml.draw(pennylane_circ)\n",
    "print(circ_drawer)\n",
    "```"
   ]
  }
 ],
 "metadata": {
  "kernelspec": {
   "display_name": "Python 3",
   "language": "python",
   "name": "python3"
  },
  "language_info": {
   "codemirror_mode": {
    "name": "ipython",
    "version": 3
   },
   "file_extension": ".py",
   "mimetype": "text/x-python",
   "name": "python",
   "nbconvert_exporter": "python",
   "pygments_lexer": "ipython3",
   "version": "3.8.5"
  }
 },
 "nbformat": 4,
 "nbformat_minor": 5
}
