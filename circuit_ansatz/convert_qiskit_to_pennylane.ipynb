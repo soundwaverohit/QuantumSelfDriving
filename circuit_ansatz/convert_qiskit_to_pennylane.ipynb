{
 "cells": [
  {
   "cell_type": "code",
   "execution_count": 1,
   "id": "d953c719",
   "metadata": {},
   "outputs": [],
   "source": [
    "# Only execute once: \n",
    "# pip install pennylane_qiskit"
   ]
  },
  {
   "cell_type": "markdown",
   "id": "7017b7d3",
   "metadata": {},
   "source": [
    "## Imports"
   ]
  },
  {
   "cell_type": "code",
   "execution_count": 3,
   "id": "7aa96753",
   "metadata": {},
   "outputs": [],
   "source": [
    "import pennylane as qml\n",
    "import pennylane_qiskit as pq\n",
    "from gate_configurations import circuit\n",
    "import numpy as np\n",
    "import random\n",
    "\n",
    "import tensorflow as tf"
   ]
  },
  {
   "cell_type": "raw",
   "id": "reasonable-north",
   "metadata": {},
   "source": [
    "# For example: \n",
    "\n",
    "# Let us import circ_1 from circuit1.py\n",
    "from circuit_2 import circ_2 as qc\n",
    "\n",
    "# Let us obtain the QISKIT circuit stored inside the circ_1 object\n",
    "qiskit_circ = qc.get_quantum_circuit()\n",
    "\n",
    "# To check our understanding, we can print the types of each object (as below)\n",
    "print(f'The type of circ_1 is {str(type(qc))[7:]}\\n')\n",
    "print(f'After we use the method \"get_quantum_circuit()\", \\\n",
    "we can obtain the actual circuit, whose type is {str(type(qiskit_circ))[7:]}\\n')\n",
    "\n",
    "# Since we have the QISKIT circuit, we can convert it to a PennyLane circuit\n",
    "pennylane_circ = pq.load(qiskit_circ)\n",
    "\n",
    "# We can print the circuit using Pennylane's draw command\n",
    "# Notice we are using the Pennylane library (qml)\n",
    "circ_drawer = qml.draw(pennylane_circ)\n",
    "print(circ_drawer())"
   ]
  },
  {
   "cell_type": "markdown",
   "id": "immune-persian",
   "metadata": {},
   "source": [
    "### -----------------------------------------------------------------------------------------"
   ]
  },
  {
   "cell_type": "code",
   "execution_count": 5,
   "id": "widespread-lesson",
   "metadata": {},
   "outputs": [
    {
     "name": "stdout",
     "output_type": "stream",
     "text": [
      "Param Dict: {'w0': 1.51, 'w1': 0.82, 'w2': 5.03, 'w3': 1.84} \n",
      "\n",
      "     ┌──────────┐               \n",
      "q_0: ┤ Rx(1.51) ├──■────────────\n",
      "     ├──────────┤┌─┴─┐          \n",
      "q_1: ┤ Rx(0.82) ├┤ X ├──■───────\n",
      "     ├──────────┤└───┘┌─┴─┐     \n",
      "q_2: ┤ Rx(5.03) ├─────┤ X ├──■──\n",
      "     ├──────────┤     └───┘┌─┴─┐\n",
      "q_3: ┤ Rx(1.84) ├──────────┤ X ├\n",
      "     └──────────┘          └───┘\n",
      "c: 4/═══════════════════════════\n",
      "                                \n"
     ]
    }
   ],
   "source": [
    "num_of_qubits = 4\n",
    "num_of_rot_gates = 4\n",
    "\n",
    "random_params = [round(random.uniform(0, 2*np.pi),2) for i in range(num_of_rot_gates)]\n",
    "params_dict = {'w'+str(i): random_params[i] for i in range(num_of_rot_gates)}\n",
    "\n",
    "circ = circuit(num_of_qubits, params_dict)\n",
    "circ.build_cascade_rx()\n",
    "circ.cx_almost_all_neighbors()\n",
    "\n",
    "print('Param Dict:', circ.get_rotation_params(), '\\n')\n",
    "print(circ.get_quantum_circuit().draw())"
   ]
  },
  {
   "cell_type": "code",
   "execution_count": 29,
   "id": "absolute-catch",
   "metadata": {},
   "outputs": [
    {
     "name": "stdout",
     "output_type": "stream",
     "text": [
      "Weights: {'w0': 1.51, 'w1': 0.82, 'w2': 5.03, 'w3': 1.84}\n"
     ]
    }
   ],
   "source": [
    "weights = circ.get_rotation_params()\n",
    "print('Weights:', weights)"
   ]
  },
  {
   "cell_type": "code",
   "execution_count": 8,
   "id": "sudden-russell",
   "metadata": {},
   "outputs": [
    {
     "name": "stdout",
     "output_type": "stream",
     "text": [
      "0: ──RX(1.51)─╭●───────┤  \n",
      "1: ──RX(0.82)─╰X─╭●────┤  \n",
      "2: ──RX(5.03)────╰X─╭●─┤  \n",
      "3: ──RX(1.84)───────╰X─┤  \n"
     ]
    }
   ],
   "source": [
    "qiskit_circ = circ.get_quantum_circuit()\n",
    "pennylane_circ = pq.load(qiskit_circ)\n",
    "\n",
    "circ_drawer = qml.draw(pennylane_circ)\n",
    "print(circ_drawer())"
   ]
  },
  {
   "cell_type": "code",
   "execution_count": 25,
   "id": "collectible-application",
   "metadata": {},
   "outputs": [
    {
     "name": "stdout",
     "output_type": "stream",
     "text": [
      "Default qubit PennyLane plugin\n",
      "Short name: default.qubit\n",
      "Package: pennylane\n",
      "Plugin version: 0.29.1\n",
      "Author: Xanadu Inc.\n",
      "Wires: 4\n",
      "Shots: 1000\n"
     ]
    }
   ],
   "source": [
    "n_qubits = 4\n",
    "\n",
    "dev = qml.device('default.qubit', wires=n_qubits, shots=1000)\n",
    "print(dev)\n",
    "\n",
    "@qml.qnode(dev)\n",
    "def qnode(inputs, weights):\n",
    "    print('Inputs  :', inputs)\n",
    "    print('Weights :', weights)\n",
    "    \n",
    "    qml.RX(inputs[0], wires=0)\n",
    "    qml.RX(inputs[1], wires=1)\n",
    "    qml.RX(inputs[2], wires=2)\n",
    "    qml.RX(inputs[3], wires=3)\n",
    "    \n",
    "    pennylane_circ(wires=[i for i in range(n_qubits)])\n",
    "    \n",
    "    return qml.expval(qml.PauliZ(0)), qml.expval(qml.PauliZ(1)), qml.expval(qml.PauliZ(2)), qml.expval(qml.PauliZ(3))\n",
    "\n",
    "weight_shapes = {\"weights\": (2,2)}"
   ]
  },
  {
   "cell_type": "code",
   "execution_count": 26,
   "id": "valued-scout",
   "metadata": {},
   "outputs": [],
   "source": [
    "circuit = qml.QNode(qnode, dev)\n",
    "qlayer = qml.qnn.KerasLayer(circuit, weight_shapes, output_dim=4)"
   ]
  },
  {
   "cell_type": "code",
   "execution_count": 27,
   "id": "checked-coupon",
   "metadata": {},
   "outputs": [
    {
     "data": {
      "text/plain": [
       "{'name': 'keras_layer_2',\n",
       " 'trainable': True,\n",
       " 'dtype': 'float32',\n",
       " 'dynamic': True,\n",
       " 'output_dim': 8,\n",
       " 'weight_specs': {},\n",
       " 'weight_shapes': {'weights': (2, 2)},\n",
       " 'argnum': None}"
      ]
     },
     "execution_count": 27,
     "metadata": {},
     "output_type": "execute_result"
    }
   ],
   "source": [
    "qlayer.get_config()"
   ]
  },
  {
   "cell_type": "code",
   "execution_count": 28,
   "id": "extreme-gabriel",
   "metadata": {},
   "outputs": [
    {
     "name": "stdout",
     "output_type": "stream",
     "text": [
      "Inputs  : [0, 0, 0, 0]\n",
      "Weights : [0.25, 0.56, 0.75, 1]\n",
      "tf.Tensor([0.134 0.05  0.04  0.022], shape=(4,), dtype=float64)\n"
     ]
    }
   ],
   "source": [
    "print(qlayer.qnode([0,0,0,0], [0.25, 0.56, 0.75, 1]))"
   ]
  },
  {
   "cell_type": "markdown",
   "id": "5532533c",
   "metadata": {},
   "source": [
    "### You must execute the following code to convert a QISKIT circuit into a Pennylane quantum circuit. Look at the example above for more details. \n",
    "\n",
    "```\n",
    "qiskit_circ = qc.get_quantum_circuit()\n",
    "\n",
    "pennylane_circ = pq.load(qiskit_circ)\n",
    "\n",
    "# To visualize only\n",
    "circ_drawer = qml.draw(pennylane_circ)\n",
    "print(circ_drawer)\n",
    "```"
   ]
  }
 ],
 "metadata": {
  "kernelspec": {
   "display_name": "Python 3",
   "language": "python",
   "name": "python3"
  },
  "language_info": {
   "codemirror_mode": {
    "name": "ipython",
    "version": 3
   },
   "file_extension": ".py",
   "mimetype": "text/x-python",
   "name": "python",
   "nbconvert_exporter": "python",
   "pygments_lexer": "ipython3",
   "version": "3.8.5"
  }
 },
 "nbformat": 4,
 "nbformat_minor": 5
}
