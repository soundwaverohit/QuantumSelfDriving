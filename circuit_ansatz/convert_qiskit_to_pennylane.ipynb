{
 "cells": [
  {
   "cell_type": "code",
   "execution_count": 2,
   "id": "d953c719",
   "metadata": {},
   "outputs": [],
   "source": [
    "# Only execute once: \n",
    "# pip install pennylane_qiskit"
   ]
  },
  {
   "cell_type": "markdown",
   "id": "7017b7d3",
   "metadata": {},
   "source": [
    "## Imports"
   ]
  },
  {
   "cell_type": "code",
   "execution_count": 1,
   "id": "7aa96753",
   "metadata": {},
   "outputs": [],
   "source": [
    "import pennylane as qml\n",
    "import pennylane_qiskit as pq"
   ]
  },
  {
   "cell_type": "code",
   "execution_count": 3,
   "id": "1506b687",
   "metadata": {},
   "outputs": [
    {
     "name": "stdout",
     "output_type": "stream",
     "text": [
      "The type of circ_1 is 'gate_configurations.circuit'>\n",
      "\n",
      "After we use the method \"get_quantum_circuit()\", we can obtain the actual circuit, whose type is 'qiskit.circuit.quantumcircuit.QuantumCircuit'>\n",
      "\n",
      "0: ──RX(2.22)──RZ(4.23)─╭●───────┤  \n",
      "1: ──RX(1.44)──RZ(4.85)─╰X─╭●────┤  \n",
      "2: ──RX(2.78)──RZ(4.50)────╰X─╭●─┤  \n",
      "3: ──RX(4.58)──RZ(2.97)───────╰X─┤  \n"
     ]
    }
   ],
   "source": [
    "# For example: \n",
    "\n",
    "# Let us import circ_1 from circuit1.py\n",
    "from circuit_2 import circ_2 as qc\n",
    "\n",
    "# Let us obtain the QISKIT circuit stored inside the circ_1 object\n",
    "qiskit_circ = qc.get_quantum_circuit()\n",
    "\n",
    "# To check our understanding, we can print the types of each object (as below)\n",
    "print(f'The type of circ_1 is {str(type(qc))[7:]}\\n')\n",
    "print(f'After we use the method \"get_quantum_circuit()\", \\\n",
    "we can obtain the actual circuit, whose type is {str(type(qiskit_circ))[7:]}\\n')\n",
    "\n",
    "# Since we have the QISKIT circuit, we can convert it to a PennyLane circuit\n",
    "pennylane_circ = pq.load(qiskit_circ)\n",
    "\n",
    "# We can print the circuit using Pennylane's draw command\n",
    "# Notice we are using the Pennylane library (qml)\n",
    "circ_drawer = qml.draw(pennylane_circ)\n",
    "print(circ_drawer())"
   ]
  },
  {
   "cell_type": "code",
   "execution_count": 4,
   "id": "absolute-catch",
   "metadata": {},
   "outputs": [
    {
     "data": {
      "text/plain": [
       "{'rx1': 2.216405686489437,\n",
       " 'rx2': 1.4412926089581348,\n",
       " 'rx3': 2.775712586615909,\n",
       " 'rx4': 4.5818375927641934,\n",
       " 'rz5': 4.227467125540714,\n",
       " 'rz6': 4.845487852393711,\n",
       " 'rz7': 4.504397364286557,\n",
       " 'rz8': 2.968352665748927}"
      ]
     },
     "execution_count": 4,
     "metadata": {},
     "output_type": "execute_result"
    }
   ],
   "source": [
    "qc.get_rotation_params()"
   ]
  },
  {
   "cell_type": "markdown",
   "id": "5532533c",
   "metadata": {},
   "source": [
    "### You must execute the following code to convert a QISKIT circuit into a Pennylane quantum circuit. Look at the example above for more details. \n",
    "\n",
    "```\n",
    "qiskit_circ = qc.get_quantum_circuit()\n",
    "\n",
    "pennylane_circ = pq.load(qiskit_circ)\n",
    "\n",
    "# To visualize only\n",
    "circ_drawer = qml.draw(pennylane_circ)\n",
    "print(circ_drawer)\n",
    "```"
   ]
  }
 ],
 "metadata": {
  "kernelspec": {
   "display_name": "Python 3",
   "language": "python",
   "name": "python3"
  },
  "language_info": {
   "codemirror_mode": {
    "name": "ipython",
    "version": 3
   },
   "file_extension": ".py",
   "mimetype": "text/x-python",
   "name": "python",
   "nbconvert_exporter": "python",
   "pygments_lexer": "ipython3",
   "version": "3.8.5"
  }
 },
 "nbformat": 4,
 "nbformat_minor": 5
}
