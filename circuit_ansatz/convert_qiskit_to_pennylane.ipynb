{
 "cells": [
  {
   "cell_type": "code",
   "execution_count": 1,
   "id": "d953c719",
   "metadata": {},
   "outputs": [],
   "source": [
    "# Only execute once: \n",
    "# pip install pennylane_qiskit"
   ]
  },
  {
   "cell_type": "markdown",
   "id": "7017b7d3",
   "metadata": {},
   "source": [
    "## Imports"
   ]
  },
  {
   "cell_type": "code",
   "execution_count": 1,
   "id": "7aa96753",
   "metadata": {},
   "outputs": [],
   "source": [
    "import pennylane as qml\n",
    "import pennylane_qiskit as pq"
   ]
  },
  {
   "cell_type": "code",
   "execution_count": 3,
   "id": "1506b687",
   "metadata": {},
   "outputs": [
    {
     "name": "stdout",
     "output_type": "stream",
     "text": [
      "The type of circ_1 is 'gate_configurations.circuit'>\n",
      "\n",
      "After we use the method \"get_quantum_circuit()\", we can obtain the actual circuit, whose type is 'qiskit.circuit.quantumcircuit.QuantumCircuit'>\n",
      "\n",
      "0: ──RX(2.96)──RZ(3.49)─╭●───────┤  \n",
      "1: ──RX(0.25)──RZ(0.36)─╰X─╭●────┤  \n",
      "2: ──RX(4.44)──RZ(3.41)────╰X─╭●─┤  \n",
      "3: ──RX(0.72)──RZ(5.06)───────╰X─┤  \n"
     ]
    }
   ],
   "source": [
    "# For example: \n",
    "\n",
    "# Let us import circ_1 from circuit1.py\n",
    "from circuit_2 import circ_2 as qc\n",
    "\n",
    "# Let us obtain the QISKIT circuit stored inside the circ_1 object\n",
    "qiskit_circ = qc.get_quantum_circuit()\n",
    "\n",
    "# To check our understanding, we can print the types of each object (as below)\n",
    "print(f'The type of circ_1 is {str(type(qc))[7:]}\\n')\n",
    "print(f'After we use the method \"get_quantum_circuit()\", \\\n",
    "we can obtain the actual circuit, whose type is {str(type(qiskit_circ))[7:]}\\n')\n",
    "\n",
    "# Since we have the QISKIT circuit, we can convert it to a PennyLane circuit\n",
    "pennylane_circ = pq.load(qiskit_circ)\n",
    "\n",
    "# We can print the circuit using Pennylane's draw command\n",
    "# Notice we are using the Pennylane library (qml)\n",
    "circ_drawer = qml.draw(pennylane_circ)\n",
    "print(circ_drawer())"
   ]
  },
  {
   "cell_type": "markdown",
   "id": "supposed-repair",
   "metadata": {},
   "source": [
    "### -----------------------------------------------------------------------------------------"
   ]
  },
  {
   "cell_type": "code",
   "execution_count": 2,
   "id": "welsh-curtis",
   "metadata": {},
   "outputs": [],
   "source": [
    "from gate_configurations import circuit"
   ]
  },
  {
   "cell_type": "code",
   "execution_count": 3,
   "id": "played-blake",
   "metadata": {},
   "outputs": [
    {
     "name": "stdout",
     "output_type": "stream",
     "text": [
      "Param Dict: {'rx0': 0.5, 'rx1': 0.33, 'rx2': 0.67, 'rx3': 1.0, 'rz4': 0.0, 'rz5': 0.0, 'rz6': 1.0, 'rz7': 0.707} \n",
      "\n",
      "     ┌─────────┐   ┌───────┐                 \n",
      "q_0: ┤ Rx(0.5) ├───┤ Rz(0) ├────■────────────\n",
      "     ├─────────┴┐  ├───────┤  ┌─┴─┐          \n",
      "q_1: ┤ Rx(0.33) ├──┤ Rz(0) ├──┤ X ├──■───────\n",
      "     ├──────────┤  ├───────┤  └───┘┌─┴─┐     \n",
      "q_2: ┤ Rx(0.67) ├──┤ Rz(1) ├───────┤ X ├──■──\n",
      "     └┬───────┬─┘┌─┴───────┴─┐     └───┘┌─┴─┐\n",
      "q_3: ─┤ Rx(1) ├──┤ Rz(0.707) ├──────────┤ X ├\n",
      "      └───────┘  └───────────┘          └───┘\n",
      "c: 4/════════════════════════════════════════\n",
      "                                             \n"
     ]
    }
   ],
   "source": [
    "circ = circuit(4)\n",
    "circ.build_cascade_rx([0.5, 0.33, 0.67, 1.0])\n",
    "circ.build_cascade_rz([0.0, 0.0, 1.0, 0.707])\n",
    "circ.cx_almost_all_neighbors()\n",
    "\n",
    "print('Param Dict:', circ.get_rotation_params(), '\\n')\n",
    "print(circ.get_quantum_circuit().draw())"
   ]
  },
  {
   "cell_type": "code",
   "execution_count": 4,
   "id": "absolute-catch",
   "metadata": {},
   "outputs": [
    {
     "data": {
      "text/plain": [
       "{'rx0': 0.5,\n",
       " 'rx1': 0.33,\n",
       " 'rx2': 0.67,\n",
       " 'rx3': 1.0,\n",
       " 'rz4': 0.0,\n",
       " 'rz5': 0.0,\n",
       " 'rz6': 1.0,\n",
       " 'rz7': 0.707}"
      ]
     },
     "execution_count": 4,
     "metadata": {},
     "output_type": "execute_result"
    }
   ],
   "source": [
    "circ.get_rotation_params()"
   ]
  },
  {
   "cell_type": "code",
   "execution_count": 5,
   "id": "appropriate-asthma",
   "metadata": {},
   "outputs": [
    {
     "name": "stdout",
     "output_type": "stream",
     "text": [
      "0: ──RX(0.50)──RZ(0.00)─╭●───────┤  \n",
      "1: ──RX(0.33)──RZ(0.00)─╰X─╭●────┤  \n",
      "2: ──RX(0.67)──RZ(1.00)────╰X─╭●─┤  \n",
      "3: ──RX(1.00)──RZ(0.71)───────╰X─┤  \n"
     ]
    }
   ],
   "source": [
    "qiskit_circ = circ.get_quantum_circuit()\n",
    "pennylane_circ = pq.load(qiskit_circ)\n",
    "\n",
    "circ_drawer = qml.draw(pennylane_circ)\n",
    "print(circ_drawer())"
   ]
  },
  {
   "cell_type": "markdown",
   "id": "5532533c",
   "metadata": {},
   "source": [
    "### You must execute the following code to convert a QISKIT circuit into a Pennylane quantum circuit. Look at the example above for more details. \n",
    "\n",
    "```\n",
    "qiskit_circ = qc.get_quantum_circuit()\n",
    "\n",
    "pennylane_circ = pq.load(qiskit_circ)\n",
    "\n",
    "# To visualize only\n",
    "circ_drawer = qml.draw(pennylane_circ)\n",
    "print(circ_drawer)\n",
    "```"
   ]
  }
 ],
 "metadata": {
  "kernelspec": {
   "display_name": "Python 3",
   "language": "python",
   "name": "python3"
  },
  "language_info": {
   "codemirror_mode": {
    "name": "ipython",
    "version": 3
   },
   "file_extension": ".py",
   "mimetype": "text/x-python",
   "name": "python",
   "nbconvert_exporter": "python",
   "pygments_lexer": "ipython3",
   "version": "3.8.5"
  }
 },
 "nbformat": 4,
 "nbformat_minor": 5
}
