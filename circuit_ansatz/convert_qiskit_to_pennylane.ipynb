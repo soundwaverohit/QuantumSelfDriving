{
 "cells": [
  {
   "cell_type": "code",
   "execution_count": 2,
   "id": "d953c719",
   "metadata": {
    "collapsed": true
   },
   "outputs": [
    {
     "name": "stdout",
     "output_type": "stream",
     "text": [
      "Requirement already satisfied: pennylane_qiskit in /Users/dsikdar/opt/anaconda3/envs/py39/lib/python3.9/site-packages (0.29.0)\n",
      "Requirement already satisfied: pennylane>=0.28 in /Users/dsikdar/opt/anaconda3/envs/py39/lib/python3.9/site-packages (from pennylane_qiskit) (0.29.1)\n",
      "Requirement already satisfied: qiskit>=0.32 in /Users/dsikdar/opt/anaconda3/envs/py39/lib/python3.9/site-packages (from pennylane_qiskit) (0.42.1)\n",
      "Requirement already satisfied: mthree>=0.17 in /Users/dsikdar/opt/anaconda3/envs/py39/lib/python3.9/site-packages (from pennylane_qiskit) (2.2.0)\n",
      "Requirement already satisfied: numpy in /Users/dsikdar/opt/anaconda3/envs/py39/lib/python3.9/site-packages (from pennylane_qiskit) (1.21.5)\n",
      "Requirement already satisfied: networkx>=2.2 in /Users/dsikdar/opt/anaconda3/envs/py39/lib/python3.9/site-packages (from pennylane_qiskit) (3.0)\n",
      "Requirement already satisfied: qiskit-ibmq-provider>=0.19.2 in /Users/dsikdar/opt/anaconda3/envs/py39/lib/python3.9/site-packages (from mthree>=0.17->pennylane_qiskit) (0.20.2)\n",
      "Requirement already satisfied: scipy>=1.3 in /Users/dsikdar/opt/anaconda3/envs/py39/lib/python3.9/site-packages (from mthree>=0.17->pennylane_qiskit) (1.7.3)\n",
      "Requirement already satisfied: orjson>=3.0.0 in /Users/dsikdar/opt/anaconda3/envs/py39/lib/python3.9/site-packages (from mthree>=0.17->pennylane_qiskit) (3.8.8)\n",
      "Requirement already satisfied: psutil in /Users/dsikdar/opt/anaconda3/envs/py39/lib/python3.9/site-packages (from mthree>=0.17->pennylane_qiskit) (5.9.0)\n",
      "Requirement already satisfied: cython>=0.29 in /Users/dsikdar/opt/anaconda3/envs/py39/lib/python3.9/site-packages (from mthree>=0.17->pennylane_qiskit) (0.29.33)\n",
      "Requirement already satisfied: qiskit-terra>=0.21 in /Users/dsikdar/opt/anaconda3/envs/py39/lib/python3.9/site-packages (from mthree>=0.17->pennylane_qiskit) (0.23.3)\n",
      "Requirement already satisfied: pennylane-lightning>=0.28 in /Users/dsikdar/opt/anaconda3/envs/py39/lib/python3.9/site-packages (from pennylane>=0.28->pennylane_qiskit) (0.29.0)\n",
      "Requirement already satisfied: retworkx in /Users/dsikdar/opt/anaconda3/envs/py39/lib/python3.9/site-packages (from pennylane>=0.28->pennylane_qiskit) (0.12.1)\n",
      "Requirement already satisfied: cachetools in /Users/dsikdar/opt/anaconda3/envs/py39/lib/python3.9/site-packages (from pennylane>=0.28->pennylane_qiskit) (5.3.0)\n",
      "Requirement already satisfied: requests in /Users/dsikdar/opt/anaconda3/envs/py39/lib/python3.9/site-packages (from pennylane>=0.28->pennylane_qiskit) (2.28.1)\n",
      "Requirement already satisfied: autograd in /Users/dsikdar/opt/anaconda3/envs/py39/lib/python3.9/site-packages (from pennylane>=0.28->pennylane_qiskit) (1.5)\n",
      "Requirement already satisfied: semantic-version>=2.7 in /Users/dsikdar/opt/anaconda3/envs/py39/lib/python3.9/site-packages (from pennylane>=0.28->pennylane_qiskit) (2.10.0)\n",
      "Requirement already satisfied: appdirs in /Users/dsikdar/opt/anaconda3/envs/py39/lib/python3.9/site-packages (from pennylane>=0.28->pennylane_qiskit) (1.4.4)\n",
      "Requirement already satisfied: toml in /Users/dsikdar/opt/anaconda3/envs/py39/lib/python3.9/site-packages (from pennylane>=0.28->pennylane_qiskit) (0.10.2)\n",
      "Requirement already satisfied: autoray>=0.3.1 in /Users/dsikdar/opt/anaconda3/envs/py39/lib/python3.9/site-packages (from pennylane>=0.28->pennylane_qiskit) (0.6.3)\n",
      "Requirement already satisfied: qiskit-aer==0.12.0 in /Users/dsikdar/opt/anaconda3/envs/py39/lib/python3.9/site-packages (from qiskit>=0.32->pennylane_qiskit) (0.12.0)\n",
      "Requirement already satisfied: websockets>=10.0 in /Users/dsikdar/opt/anaconda3/envs/py39/lib/python3.9/site-packages (from qiskit-ibmq-provider>=0.19.2->mthree>=0.17->pennylane_qiskit) (10.4)\n",
      "Requirement already satisfied: urllib3>=1.21.1 in /Users/dsikdar/opt/anaconda3/envs/py39/lib/python3.9/site-packages (from qiskit-ibmq-provider>=0.19.2->mthree>=0.17->pennylane_qiskit) (1.26.11)\n",
      "Requirement already satisfied: websocket-client>=1.5.1 in /Users/dsikdar/opt/anaconda3/envs/py39/lib/python3.9/site-packages (from qiskit-ibmq-provider>=0.19.2->mthree>=0.17->pennylane_qiskit) (1.5.1)\n",
      "Requirement already satisfied: python-dateutil>=2.8.0 in /Users/dsikdar/opt/anaconda3/envs/py39/lib/python3.9/site-packages (from qiskit-ibmq-provider>=0.19.2->mthree>=0.17->pennylane_qiskit) (2.8.2)\n",
      "Requirement already satisfied: requests-ntlm<=1.1.0 in /Users/dsikdar/opt/anaconda3/envs/py39/lib/python3.9/site-packages (from qiskit-ibmq-provider>=0.19.2->mthree>=0.17->pennylane_qiskit) (1.1.0)\n",
      "Requirement already satisfied: sympy>=1.3 in /Users/dsikdar/opt/anaconda3/envs/py39/lib/python3.9/site-packages (from qiskit-terra>=0.21->mthree>=0.17->pennylane_qiskit) (1.10.1)\n",
      "Requirement already satisfied: ply>=3.10 in /Users/dsikdar/opt/anaconda3/envs/py39/lib/python3.9/site-packages (from qiskit-terra>=0.21->mthree>=0.17->pennylane_qiskit) (3.11)\n",
      "Requirement already satisfied: symengine>=0.9 in /Users/dsikdar/opt/anaconda3/envs/py39/lib/python3.9/site-packages (from qiskit-terra>=0.21->mthree>=0.17->pennylane_qiskit) (0.9.2)\n",
      "Requirement already satisfied: dill>=0.3 in /Users/dsikdar/opt/anaconda3/envs/py39/lib/python3.9/site-packages (from qiskit-terra>=0.21->mthree>=0.17->pennylane_qiskit) (0.3.4)\n",
      "Requirement already satisfied: rustworkx>=0.12.0 in /Users/dsikdar/opt/anaconda3/envs/py39/lib/python3.9/site-packages (from qiskit-terra>=0.21->mthree>=0.17->pennylane_qiskit) (0.12.1)\n",
      "Requirement already satisfied: stevedore>=3.0.0 in /Users/dsikdar/opt/anaconda3/envs/py39/lib/python3.9/site-packages (from qiskit-terra>=0.21->mthree>=0.17->pennylane_qiskit) (5.0.0)\n",
      "Requirement already satisfied: charset-normalizer<3,>=2 in /Users/dsikdar/opt/anaconda3/envs/py39/lib/python3.9/site-packages (from requests->pennylane>=0.28->pennylane_qiskit) (2.0.4)\n",
      "Requirement already satisfied: idna<4,>=2.5 in /Users/dsikdar/opt/anaconda3/envs/py39/lib/python3.9/site-packages (from requests->pennylane>=0.28->pennylane_qiskit) (3.3)\n",
      "Requirement already satisfied: certifi>=2017.4.17 in /Users/dsikdar/opt/anaconda3/envs/py39/lib/python3.9/site-packages (from requests->pennylane>=0.28->pennylane_qiskit) (2022.12.7)\n",
      "Requirement already satisfied: future>=0.15.2 in /Users/dsikdar/opt/anaconda3/envs/py39/lib/python3.9/site-packages (from autograd->pennylane>=0.28->pennylane_qiskit) (0.18.3)\n",
      "Requirement already satisfied: six>=1.5 in /Users/dsikdar/opt/anaconda3/envs/py39/lib/python3.9/site-packages (from python-dateutil>=2.8.0->qiskit-ibmq-provider>=0.19.2->mthree>=0.17->pennylane_qiskit) (1.16.0)\n",
      "Requirement already satisfied: ntlm-auth>=1.0.2 in /Users/dsikdar/opt/anaconda3/envs/py39/lib/python3.9/site-packages (from requests-ntlm<=1.1.0->qiskit-ibmq-provider>=0.19.2->mthree>=0.17->pennylane_qiskit) (1.5.0)\n",
      "Requirement already satisfied: cryptography>=1.3 in /Users/dsikdar/opt/anaconda3/envs/py39/lib/python3.9/site-packages (from requests-ntlm<=1.1.0->qiskit-ibmq-provider>=0.19.2->mthree>=0.17->pennylane_qiskit) (37.0.1)\n",
      "Requirement already satisfied: pbr!=2.1.0,>=2.0.0 in /Users/dsikdar/opt/anaconda3/envs/py39/lib/python3.9/site-packages (from stevedore>=3.0.0->qiskit-terra>=0.21->mthree>=0.17->pennylane_qiskit) (5.11.1)\n",
      "Requirement already satisfied: mpmath>=0.19 in /Users/dsikdar/opt/anaconda3/envs/py39/lib/python3.9/site-packages (from sympy>=1.3->qiskit-terra>=0.21->mthree>=0.17->pennylane_qiskit) (1.2.1)\n",
      "Requirement already satisfied: cffi>=1.12 in /Users/dsikdar/opt/anaconda3/envs/py39/lib/python3.9/site-packages (from cryptography>=1.3->requests-ntlm<=1.1.0->qiskit-ibmq-provider>=0.19.2->mthree>=0.17->pennylane_qiskit) (1.15.1)\n",
      "Requirement already satisfied: pycparser in /Users/dsikdar/opt/anaconda3/envs/py39/lib/python3.9/site-packages (from cffi>=1.12->cryptography>=1.3->requests-ntlm<=1.1.0->qiskit-ibmq-provider>=0.19.2->mthree>=0.17->pennylane_qiskit) (2.21)\n",
      "Note: you may need to restart the kernel to use updated packages.\n"
     ]
    }
   ],
   "source": [
    "pip install pennylane_qiskit"
   ]
  },
  {
   "cell_type": "markdown",
   "id": "7017b7d3",
   "metadata": {},
   "source": [
    "## Imports"
   ]
  },
  {
   "cell_type": "code",
   "execution_count": 6,
   "id": "7aa96753",
   "metadata": {},
   "outputs": [],
   "source": [
    "import pennylane as qml\n",
    "import pennylane_qiskit as pq"
   ]
  },
  {
   "cell_type": "code",
   "execution_count": 31,
   "id": "1506b687",
   "metadata": {},
   "outputs": [
    {
     "name": "stdout",
     "output_type": "stream",
     "text": [
      "The type of circ_1 is 'gate_configurations.circuit'>\n",
      "\n",
      "After we use the method \"get_quantum_circuit()\", we can obtain the actual circuit, whose type is 'qiskit.circuit.quantumcircuit.QuantumCircuit'>\n",
      "\n",
      "0: ──RX(1.84)──RZ(2.66)─╭●───────┤  \n",
      "1: ──RX(3.00)──RZ(1.15)─╰X─╭●────┤  \n",
      "2: ──RX(3.47)──RZ(0.91)────╰X─╭●─┤  \n",
      "3: ──RX(1.12)──RZ(2.90)───────╰X─┤  \n"
     ]
    }
   ],
   "source": [
    "# For example: \n",
    "\n",
    "# Let us import circ_1 from circuit1.py\n",
    "from circuit_2 import circ_2 as qc\n",
    "\n",
    "# Let us obtain the QISKIT circuit stored inside the circ_1 object\n",
    "qiskit_circ = qc.get_quantum_circuit()\n",
    "\n",
    "# To check our understanding, we can print the types of each object (as below)\n",
    "print(f'The type of circ_1 is {str(type(circ_1))[7:]}\\n')\n",
    "print(f'After we use the method \"get_quantum_circuit()\", \\\n",
    "we can obtain the actual circuit, whose type is {str(type(qiskit_circ))[7:]}\\n')\n",
    "\n",
    "# Since we have the QISKIT circuit, we can convert it to a PennyLane circuit\n",
    "pennylane_circ = pq.load(qiskit_circ)\n",
    "\n",
    "# We can print the circuit using Pennylane's draw command\n",
    "# Notice we are using the Pennylane library (qml)\n",
    "circ_drawer = qml.draw(pennylane_circ)\n",
    "print(circ_drawer())"
   ]
  },
  {
   "cell_type": "markdown",
   "id": "5532533c",
   "metadata": {},
   "source": [
    "### You must execute the following code to convert a QISKIT circuit into a Pennylane quantum circuit. Look at the example above for more details. \n",
    "\n",
    "```\n",
    "qiskit_circ = qc.get_quantum_circuit()\n",
    "\n",
    "pennylane_circ = pq.load(qiskit_circ)\n",
    "\n",
    "# To visualize only\n",
    "circ_drawer = qml.draw(pennylane_circ)\n",
    "print(circ_drawer)\n",
    "```"
   ]
  }
 ],
 "metadata": {
  "kernelspec": {
   "display_name": "Python 3 (ipykernel)",
   "language": "python",
   "name": "python3"
  },
  "language_info": {
   "codemirror_mode": {
    "name": "ipython",
    "version": 3
   },
   "file_extension": ".py",
   "mimetype": "text/x-python",
   "name": "python",
   "nbconvert_exporter": "python",
   "pygments_lexer": "ipython3",
   "version": "3.9.13"
  }
 },
 "nbformat": 4,
 "nbformat_minor": 5
}
