{
 "cells": [
  {
   "cell_type": "code",
   "execution_count": 1,
   "id": "7aa96753",
   "metadata": {},
   "outputs": [],
   "source": [
    "import pennylane as qml\n",
    "import tensorflow as tf\n",
    "import PennyLane_Gate_Configurations as pgc"
   ]
  },
  {
   "cell_type": "code",
   "execution_count": 2,
   "id": "widespread-lesson",
   "metadata": {},
   "outputs": [],
   "source": [
    "num_of_qubits = input(\"Enter number of qubits (default=4): \")\n",
    "if num_of_qubits == \"\":\n",
    "    num_of_qubits = 4\n",
    "else:\n",
    "    try:\n",
    "        num_of_qubits = int(num_of_qubits)\n",
    "    except Exception as error:\n",
    "        print(error)\n",
    "        \n",
    "weight_shapes = {\"weights\": num_of_qubits}"
   ]
  },
  {
   "cell_type": "code",
   "execution_count": null,
   "id": "sudden-syndication",
   "metadata": {},
   "outputs": [],
   "source": [
    "dev = qml.device('default.qubit', wires=num_of_qubits, shots=1000)"
   ]
  },
  {
   "cell_type": "code",
   "execution_count": 4,
   "id": "italian-research",
   "metadata": {},
   "outputs": [],
   "source": [
    "@qml.qnode(dev)\n",
    "def qnode(inputs, weights): \n",
    "    # Data Encoding with the inputs\n",
    "    pgc.data_encoding(inputs)\n",
    "    \n",
    "    # Constructing the rest of the circuit with the weights\n",
    "    pgc.cx_almost_all_neighbors(num_of_qubits)\n",
    "    pgc.build_cascade_ry(weights, num_of_qubits)\n",
    "    \n",
    "    # Return measurement layer output\n",
    "    return tuple([qml.expval(qml.PauliZ(i)) for i in range(num_of_qubits)])"
   ]
  },
  {
   "cell_type": "code",
   "execution_count": 5,
   "id": "local-prompt",
   "metadata": {},
   "outputs": [
    {
     "name": "stdout",
     "output_type": "stream",
     "text": [
      "0: ──RX(0.00)─╭●──RY(0.25)─────────────────────┤  <Z>\n",
      "1: ──RX(0.10)─╰X─╭●─────────RY(0.33)───────────┤  <Z>\n",
      "2: ──RX(1.50)────╰X────────╭●─────────RY(0.75)─┤  <Z>\n",
      "3: ──RX(0.33)──────────────╰X─────────RY(0.67)─┤  <Z>\n"
     ]
    }
   ],
   "source": [
    "# Verification only\n",
    "if num_of_qubits == 4:\n",
    "    inp = [0, 0.1, 1.5, 0.33]\n",
    "    wts = [0.25, 0.33, 0.75, 0.67]\n",
    "\n",
    "    print(qml.draw(qnode)(inputs=inp, weights=wts))"
   ]
  },
  {
   "cell_type": "code",
   "execution_count": 6,
   "id": "preceding-alert",
   "metadata": {},
   "outputs": [],
   "source": [
    "qlayer = qml.qnn.KerasLayer(qnode, weight_shapes, output_dim=num_of_qubits, dtype='float64')"
   ]
  },
  {
   "cell_type": "code",
   "execution_count": 7,
   "id": "mechanical-google",
   "metadata": {},
   "outputs": [],
   "source": [
    "# Verification only\n",
    "# qlayer.get_config()"
   ]
  },
  {
   "cell_type": "code",
   "execution_count": 8,
   "id": "available-world",
   "metadata": {},
   "outputs": [
    {
     "name": "stdout",
     "output_type": "stream",
     "text": [
      "tf.Tensor([0.976 0.948 0.094 0.09 ], shape=(4,), dtype=float64)\n"
     ]
    }
   ],
   "source": [
    "# Verification only\n",
    "if num_of_qubits == 4:\n",
    "    t = qlayer.qnode(inp, wts)\n",
    "    print(t)"
   ]
  },
  {
   "cell_type": "code",
   "execution_count": null,
   "id": "crazy-lobby",
   "metadata": {},
   "outputs": [],
   "source": []
  }
 ],
 "metadata": {
  "kernelspec": {
   "display_name": "Python 3",
   "language": "python",
   "name": "python3"
  },
  "language_info": {
   "codemirror_mode": {
    "name": "ipython",
    "version": 3
   },
   "file_extension": ".py",
   "mimetype": "text/x-python",
   "name": "python",
   "nbconvert_exporter": "python",
   "pygments_lexer": "ipython3",
   "version": "3.8.5"
  }
 },
 "nbformat": 4,
 "nbformat_minor": 5
}
