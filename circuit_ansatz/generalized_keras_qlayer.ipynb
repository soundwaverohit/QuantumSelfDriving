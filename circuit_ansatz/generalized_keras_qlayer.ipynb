{
 "cells": [
  {
   "cell_type": "code",
   "execution_count": 1,
   "id": "7aa96753",
   "metadata": {},
   "outputs": [],
   "source": [
    "import pennylane as qml\n",
    "import tensorflow as tf\n",
    "import PennyLane_Gate_Configurations as pgc"
   ]
  },
  {
   "cell_type": "code",
   "execution_count": 2,
   "id": "widespread-lesson",
   "metadata": {},
   "outputs": [],
   "source": [
    "num_of_qubits = 4\n",
    "weight_shapes = {\"weights\": num_of_qubits}"
   ]
  },
  {
   "cell_type": "code",
   "execution_count": 3,
   "id": "italian-research",
   "metadata": {},
   "outputs": [],
   "source": [
    "dev = qml.device('default.qubit', wires=num_of_qubits, shots=1000)\n",
    "\n",
    "@qml.qnode(dev)\n",
    "def qnode(inputs, weights): \n",
    "    # Data Encoding with the inputs\n",
    "    pgc.build_cascade_rx(inputs, num_of_qubits)\n",
    "    \n",
    "    # Constructing the rest of the circuit with the weights\n",
    "    pgc.cx_all_neighbors(num_of_qubits)\n",
    "    pgc.build_cascade_ry(weights, num_of_qubits)\n",
    "    \n",
    "    # Return measurement layer output\n",
    "    return tuple([qml.expval(qml.PauliZ(i)) for i in range(num_of_qubits)])"
   ]
  },
  {
   "cell_type": "code",
   "execution_count": 4,
   "id": "local-prompt",
   "metadata": {},
   "outputs": [],
   "source": [
    "# Verification only\n",
    "# inp = [0, 0.1, 1.5, 0.33]\n",
    "# wts = [0.25, 0.33, 0.75, 0.67]\n",
    "\n",
    "# print(qml.draw(qnode)(inputs=inp, weights=wts))"
   ]
  },
  {
   "cell_type": "code",
   "execution_count": 5,
   "id": "preceding-alert",
   "metadata": {},
   "outputs": [],
   "source": [
    "qlayer = qml.qnn.KerasLayer(qnode, weight_shapes, output_dim=4, dtype='float64')"
   ]
  },
  {
   "cell_type": "code",
   "execution_count": 6,
   "id": "mechanical-google",
   "metadata": {},
   "outputs": [],
   "source": [
    "# Verification only\n",
    "# qlayer.get_config()"
   ]
  },
  {
   "cell_type": "code",
   "execution_count": 7,
   "id": "available-world",
   "metadata": {},
   "outputs": [],
   "source": [
    "# Verification only\n",
    "# t = qlayer.qnode(inp, wts)\n",
    "# print(t)"
   ]
  },
  {
   "cell_type": "code",
   "execution_count": null,
   "id": "crazy-lobby",
   "metadata": {},
   "outputs": [],
   "source": []
  }
 ],
 "metadata": {
  "kernelspec": {
   "display_name": "Python 3",
   "language": "python",
   "name": "python3"
  },
  "language_info": {
   "codemirror_mode": {
    "name": "ipython",
    "version": 3
   },
   "file_extension": ".py",
   "mimetype": "text/x-python",
   "name": "python",
   "nbconvert_exporter": "python",
   "pygments_lexer": "ipython3",
   "version": "3.8.5"
  }
 },
 "nbformat": 4,
 "nbformat_minor": 5
}
