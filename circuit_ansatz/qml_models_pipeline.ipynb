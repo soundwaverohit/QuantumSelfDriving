{
 "cells": [
  {
   "cell_type": "markdown",
   "metadata": {},
   "source": [
    "\n",
    "<h3> Importing necessary libraries </h3>"
   ]
  },
  {
   "cell_type": "code",
   "execution_count": null,
   "metadata": {},
   "outputs": [
    {
     "data": {
      "text/html": [
       "<script>Jupyter.notebook.kernel.restart()</script>"
      ]
     },
     "metadata": {},
     "output_type": "display_data"
    }
   ],
   "source": [
    "from IPython.display import display_html\n",
    "def restartkernel():\n",
    "    display_html(\"<script>Jupyter.notebook.kernel.restart()</script>\",raw=True)\n",
    "    \n",
    "restartkernel()"
   ]
  },
  {
   "cell_type": "code",
   "execution_count": 2,
   "metadata": {},
   "outputs": [
    {
     "name": "stdout",
     "output_type": "stream",
     "text": [
      "Enter number of qubits (default=4): 4\n",
      "Which circuits do you want to select? Separate each option by 1 space.\n",
      "1 2 3 4 5\n",
      "1. <Quantum Keras Layer: func=qnode1>\n",
      "2. <Quantum Keras Layer: func=qnode2>\n",
      "3. <Quantum Keras Layer: func=qnode3>\n",
      "4. <Quantum Keras Layer: func=qnode4>\n",
      "5. <Quantum Keras Layer: func=qnode5>\n"
     ]
    }
   ],
   "source": [
    "import qlayers\n",
    "import tensorflow as tf\n",
    "import numpy as np\n",
    "import matplotlib.pyplot as plt\n",
    "from sklearn.datasets import load_diabetes"
   ]
  },
  {
   "cell_type": "markdown",
   "metadata": {},
   "source": [
    "<h3> Instantiating and visualizing the Diabetes dataset from Scikit-Learn </h3>"
   ]
  },
  {
   "cell_type": "code",
   "execution_count": 8,
   "metadata": {},
   "outputs": [
    {
     "name": "stdout",
     "output_type": "stream",
     "text": [
      "tf.Tensor([442  10], shape=(2,), dtype=int32)\n",
      "tf.Tensor([442], shape=(1,), dtype=int32)\n"
     ]
    }
   ],
   "source": [
    "# Set random seeds\n",
    "np.random.seed(42)\n",
    "tf.random.set_seed(42)\n",
    "\n",
    "# load the dataset but dont plot it (since it is 10 dimensional) \n",
    "data, targets = load_diabetes(return_X_y = True) \n",
    "targets /= 346\n",
    "print(tf.shape(data))\n",
    "# print(targets)\n",
    "print(tf.shape(targets)) \n",
    "# dont need since the target is a value between 25 and 346\n",
    "# y_hot = tf.keras.utils.to_categorical(targets, num_classes=2)  # one-hot encoded labels"
   ]
  },
  {
   "cell_type": "markdown",
   "metadata": {},
   "source": [
    "<h3> Creating model with classical and quantum layers </h3> "
   ]
  },
  {
   "cell_type": "code",
   "execution_count": 9,
   "metadata": {},
   "outputs": [
    {
     "name": "stdout",
     "output_type": "stream",
     "text": [
      "[<Quantum Keras Layer: func=qnode1>, <Quantum Keras Layer: func=qnode2>, <Quantum Keras Layer: func=qnode3>, <Quantum Keras Layer: func=qnode4>, <Quantum Keras Layer: func=qnode5>]\n"
     ]
    }
   ],
   "source": [
    "tf.keras.backend.set_floatx('float64')\n",
    "\n",
    "print(qlayers.list_of_qlayers)\n",
    "clayer_1 = tf.keras.layers.Dense(4)\n",
    "qlayer_1 = qlayers.list_of_qlayers[0]\n",
    "qlayer_2 = qlayers.list_of_qlayers[1]\n",
    "# clayer_2 = tf.keras.layers.Dense(2, activation=\"softmax\")\n",
    "clayer_2 = tf.keras.layers.Dense(2, activation=\"relu\")"
   ]
  },
  {
   "cell_type": "code",
   "execution_count": 10,
   "metadata": {},
   "outputs": [],
   "source": [
    "# construct the model\n",
    "inputs = tf.keras.Input(shape=(10,))\n",
    "x = clayer_1(inputs)\n",
    "x_1, x_2 = tf.split(x, 2, axis=1)\n",
    "x_1 = qlayer_1(x_1)\n",
    "x_2 = qlayer_2(x_2)\n",
    "x = tf.concat([x_1, x_2], axis=1)\n",
    "outputs = clayer_2(x)\n",
    "\n",
    "model = tf.keras.Model(inputs=inputs, outputs=outputs)"
   ]
  },
  {
   "cell_type": "code",
   "execution_count": 11,
   "metadata": {
    "scrolled": false
   },
   "outputs": [
    {
     "name": "stdout",
     "output_type": "stream",
     "text": [
      "Epoch 1/20\n",
      "67/67 [==============================] - 27s 408ms/step - loss: 0.1750 - val_loss: 0.1470\n",
      "Epoch 2/20\n",
      "67/67 [==============================] - 29s 426ms/step - loss: 0.1365 - val_loss: 0.1396\n",
      "Epoch 3/20\n",
      "67/67 [==============================] - 28s 424ms/step - loss: 0.1340 - val_loss: 0.1385\n",
      "Epoch 4/20\n",
      "67/67 [==============================] - 31s 462ms/step - loss: 0.1333 - val_loss: 0.1398\n",
      "Epoch 5/20\n",
      "67/67 [==============================] - 26s 384ms/step - loss: 0.1327 - val_loss: 0.1382\n",
      "Epoch 6/20\n",
      "67/67 [==============================] - 29s 440ms/step - loss: 0.1327 - val_loss: 0.1386\n",
      "Epoch 7/20\n",
      "67/67 [==============================] - 29s 437ms/step - loss: 0.1325 - val_loss: 0.1390\n",
      "Epoch 8/20\n",
      "67/67 [==============================] - 29s 427ms/step - loss: 0.1331 - val_loss: 0.1385\n",
      "Epoch 9/20\n",
      "67/67 [==============================] - 31s 455ms/step - loss: 0.1324 - val_loss: 0.1383\n",
      "Epoch 10/20\n",
      "67/67 [==============================] - 26s 389ms/step - loss: 0.1341 - val_loss: 0.1395\n",
      "Epoch 11/20\n",
      "67/67 [==============================] - 25s 375ms/step - loss: 0.1330 - val_loss: 0.1375\n",
      "Epoch 12/20\n",
      "67/67 [==============================] - 23s 350ms/step - loss: 0.1321 - val_loss: 0.1389\n",
      "Epoch 13/20\n",
      "67/67 [==============================] - 23s 346ms/step - loss: 0.1324 - val_loss: 0.1384\n",
      "Epoch 14/20\n",
      "67/67 [==============================] - 21s 318ms/step - loss: 0.1337 - val_loss: 0.1385\n",
      "Epoch 15/20\n",
      "67/67 [==============================] - 21s 319ms/step - loss: 0.1329 - val_loss: 0.1402\n",
      "Epoch 16/20\n",
      "67/67 [==============================] - 23s 337ms/step - loss: 0.1329 - val_loss: 0.1396\n",
      "Epoch 17/20\n",
      "67/67 [==============================] - 27s 405ms/step - loss: 0.1324 - val_loss: 0.1380\n",
      "Epoch 18/20\n",
      "67/67 [==============================] - 27s 396ms/step - loss: 0.1318 - val_loss: 0.1386\n",
      "Epoch 19/20\n",
      "67/67 [==============================] - 27s 402ms/step - loss: 0.1330 - val_loss: 0.1375\n",
      "Epoch 20/20\n",
      "67/67 [==============================] - 28s 415ms/step - loss: 0.1327 - val_loss: 0.1381\n"
     ]
    }
   ],
   "source": [
    "# 0.2 - way too high\n",
    "# 0.05 - too high\n",
    "# 0.02 - workable, likely will need to be lower as training goes on for longer\n",
    "# 0.01 - very good\n",
    "# 0.001 - stable, but converges very slowly\n",
    "opt = tf.keras.optimizers.Adam(learning_rate=0.01)\n",
    "model.compile(opt, loss=\"mean_squared_error\")\n",
    "\n",
    "# the model stabilizes around epoch 5, test to at least 20 epochs for 4 qubits and layers 1-2\n",
    "# seems to follow this trend for other quantum layer parameters\n",
    "# fitting = model.fit(data, targets, epochs=6, batch_size=5, validation_split=0.25, verbose=1)\n",
    "fitting = model.fit(data, targets, epochs=20, batch_size=5, validation_split=0.25, verbose=1)"
   ]
  },
  {
   "cell_type": "markdown",
   "metadata": {},
   "source": [
    "# qlayer_1.get_weights()"
   ]
  },
  {
   "cell_type": "code",
   "execution_count": 12,
   "metadata": {},
   "outputs": [
    {
     "data": {
      "text/plain": [
       "[array([ 0.57821046, -0.83626895, -0.8184806 , -0.25081627])]"
      ]
     },
     "execution_count": 12,
     "metadata": {},
     "output_type": "execute_result"
    }
   ],
   "source": [
    "qlayer_2.get_weights()"
   ]
  },
  {
   "cell_type": "markdown",
   "metadata": {},
   "source": [
    "<h3> Result Plots </h3>"
   ]
  },
  {
   "cell_type": "code",
   "execution_count": 13,
   "metadata": {},
   "outputs": [],
   "source": [
    "def plot_history(history, mode, model_number):\n",
    "    if mode == \"ACC\":\n",
    "        mode = 'accuracy'\n",
    "    elif mode == \"LOSS\":\n",
    "        mode = 'loss'\n",
    "    else:\n",
    "        print(\"ERROR\")\n",
    "        \n",
    "    plt.plot(history.history[f\"{mode}\"])\n",
    "    plt.plot(history.history[f\"val_{mode}\"])\n",
    "    plt.title(f\"model{model_number} {mode}\")\n",
    "    plt.ylabel(f'{mode}')\n",
    "    plt.xlabel('epoch')\n",
    "    plt.legend(['train', 'test'], loc='upper left')\n",
    "    plt.show()"
   ]
  },
  {
   "cell_type": "code",
   "execution_count": 14,
   "metadata": {},
   "outputs": [
    {
     "data": {
      "image/png": "[encoded data removed]",
      "text/plain": [
       "<Figure size 432x288 with 1 Axes>"
      ]
     },
     "metadata": {
      "needs_background": "light"
     },
     "output_type": "display_data"
    }
   ],
   "source": [
    "# plot_history(fitting, \"ACC\", 1)\n",
    "plot_history(fitting, \"LOSS\", 1)"
   ]
  },
  {
   "cell_type": "code",
   "execution_count": null,
   "metadata": {},
   "outputs": [],
   "source": []
  }
 ],
 "metadata": {
  "kernelspec": {
   "display_name": "Python 3",
   "language": "python",
   "name": "python3"
  }
 },
 "nbformat": 4,
 "nbformat_minor": 5
}
